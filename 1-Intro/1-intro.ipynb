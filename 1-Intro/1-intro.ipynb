{
 "cells": [
  {
   "cell_type": "markdown",
   "metadata": {},
   "source": [
    "# Week 1 - Retreiving and Preparing Text for Machines\n",
    "\n",
    "This week, we begin by \"begging, borrowing and stealing\" text from several\n",
    "contexts of human communication (e.g., PDFs, HTML, Word) and preparing it for\n",
    "machines to \"read\" and analyze. This notebook outlines scraping text from the\n",
    "web, PDF and Word documents. Then we detail \"spidering\" or walking\n",
    "through hyperlinks to build samples of online content, and using APIs,\n",
    "Application Programming Interfaces, provided by webservices to access their\n",
    "content. Along the way, we will use regular expressions, outlined in the\n",
    "reading, to remove unwanted formatting and ornamentation. Finally, we discuss\n",
    "various text encodings, filtering and data structures in which text can be\n",
    "placed for analysis.\n",
    "\n",
    "For this notebook we will be using the following packages:"
   ]
  },
  {
   "cell_type": "code",
   "execution_count": 1,
   "metadata": {
    "collapsed": true
   },
   "outputs": [],
   "source": [
    "#Special module written for this class\n",
    "#This provides access to data and to helper functions from previous weeks\n",
    "import lucem_illud #pip install git+git://github.com/Computational-Content-Analysis-2018/lucem_illud.git\n",
    "\n",
    "#All these packages need to be installed from pip\n",
    "import requests #for http requests\n",
    "import bs4 #called `beautifulsoup4`, an html parser\n",
    "import pandas #gives us DataFrames\n",
    "import docx #reading MS doc files, install as `python-docx`\n",
    "\n",
    "#Stuff for pdfs\n",
    "#Install as `pdfminer2`\n",
    "import pdfminer.pdfinterp\n",
    "import pdfminer.converter\n",
    "import pdfminer.layout\n",
    "import pdfminer.pdfpage\n",
    "\n",
    "#These come with Python\n",
    "import re #for regexs\n",
    "import urllib.parse #For joining urls\n",
    "import io #for making http requests look like files\n",
    "import json #For Tumblr API responses\n",
    "import os.path #For checking if files exist\n",
    "import os #For making directories"
   ]
  },
  {
   "cell_type": "code",
   "execution_count": 7,
   "metadata": {
    "collapsed": true
   },
   "outputs": [],
   "source": [
    "from IPython.display import display"
   ]
  },
  {
   "cell_type": "markdown",
   "metadata": {},
   "source": [
    "We will also be working on the following files/urls"
   ]
  },
  {
   "cell_type": "code",
   "execution_count": 15,
   "metadata": {
    "collapsed": true
   },
   "outputs": [],
   "source": [
    "wikipedia_base_url = 'https://en.wikipedia.org'\n",
    "wikipedia_content_analysis = 'https://en.wikipedia.org/wiki/Content_analysis'\n",
    "content_analysis_save = 'wikipedia_content_analysis.html'\n",
    "example_text_file = 'sometextfile.txt'\n",
    "information_extraction_pdf = 'https://github.com/Computational-Content-Analysis-2018/Data-Files/raw/master/1-intro/Content%20Analysis%2018.pdf'\n",
    "example_docx = 'https://github.com/Computational-Content-Analysis-2018/Data-Files/raw/master/1-intro/macs6000_connecting_to_midway.docx'\n",
    "example_docx_save = 'example.docx'"
   ]
  },
  {
   "cell_type": "markdown",
   "metadata": {},
   "source": [
    "# Scraping\n",
    "\n",
    "Before we can start analyzing content we need to obtain it. Sometimes it will be\n",
    "provided to us from a pre-curated text archive, but sometimes we will need to\n",
    "download it. As a starting example we will attempt to download the wikipedia\n",
    "page on content analysis. The page is located at [https://en.wikipedia.org/wiki/\n",
    "Content_analysis](https://en.wikipedia.org/wiki/Content_analysis) so lets start\n",
    "with that.\n",
    "\n",
    "We can do this by making an HTTP GET request to that url, a GET request is\n",
    "simply a request to the server to provide the contents given by some url. The\n",
    "other request we will be using in this class is called a POST request and\n",
    "requests the server to take some content we provide. While the Python standard\n",
    "library does have the ability do make GET requests we will be using the\n",
    "[_requests_](http://docs.python-requests.org/en/master/) package as it is _'the\n",
    "only Non-GMO HTTP library for Python'_...also it provides a nicer interface."
   ]
  },
  {
   "cell_type": "code",
   "execution_count": 16,
   "metadata": {
    "collapsed": false
   },
   "outputs": [
    {
     "data": {
      "text/plain": [
       "<Response [200]>"
      ]
     },
     "execution_count": 16,
     "metadata": {},
     "output_type": "execute_result"
    }
   ],
   "source": [
    "#wikipedia_content_analysis = 'https://en.wikipedia.org/wiki/Content_analysis'\n",
    "requests.get(wikipedia_content_analysis)"
   ]
  },
  {
   "cell_type": "markdown",
   "metadata": {},
   "source": [
    "`'Response [200]'` means the server responded with what we asked for. If you get\n",
    "another number (e.g. 404) it likely means there was some kind of error, these\n",
    "codes are called HTTP response codes and a list of them can be found\n",
    "[here](https://en.wikipedia.org/wiki/List_of_HTTP_status_codes). The response\n",
    "object contains all the data the server sent including the website's contents\n",
    "and the HTTP header. We are interested in the contents which we can access with\n",
    "the `.text` attribute."
   ]
  },
  {
   "cell_type": "code",
   "execution_count": 17,
   "metadata": {
    "collapsed": false
   },
   "outputs": [
    {
     "name": "stdout",
     "output_type": "stream",
     "text": [
      "ection#Subsections\" title=\"Help:Section\">subheadings</a>.</span> <small><i>(January 2018)</i></small></div>\n",
      "</td>\n",
      "</tr>\n",
      "</table>\n",
      "<table class=\"vertical-navbox nowraplinks hlist\" style=\"float:right;clear:right;width:22.0em;margin:0 0 1.0em 1.0em;background:#f9f9f9;border:1px solid #aaa;padding:0.2em;border-spacing:0.4em 0;text-align:center;line-height:1.4em;font-size:88%\">\n",
      "<tr>\n",
      "<th class=\"navbox-title\" style=\"padding:0.2em 0.4em 0.2em;font-size:145%;line-height:1.2em\"><a href=\"/wiki/Sociology\" title=\"Sociology\">Sociology</a></th>\n",
      "</tr>\n",
      "<tr>\n",
      "<td style=\"padding:0.2em 0 0.4em\"><a href=\"/wiki/File:Social_Network_Diagram_(segment).svg\" class=\"image\"><img alt=\"Social Network Diagram (segment).svg\" src=\"//upload.wikimedia.org/wikipedia/commons/thumb/e/e4/Social_Network_Diagram_%28segment%29.svg/250px-Social_Network_Diagram_%28segment%29.svg.png\" width=\"250\" height=\"97\" class=\"thumbborder\" srcset=\"//upload.wikimedia.org/wikipedia/commons/thumb/e/e4/Social_Network_Diagram_%28segment%29.svg/375px\n"
     ]
    }
   ],
   "source": [
    "wikiContentRequest = requests.get(wikipedia_content_analysis)\n",
    "print(wikiContentRequest.text[10000:11000])"
   ]
  },
  {
   "cell_type": "markdown",
   "metadata": {},
   "source": [
    "This is not what we were looking for, because it is the start of the HTML that\n",
    "makes up the website. This is HTML and is meant to be read by computers. Luckily\n",
    "we have a computer to parse it for us. To do the parsing we will use [_Beautiful\n",
    "Soup_](https://www.crummy.com/software/BeautifulSoup/) which is a better parser\n",
    "than the one in the standard library."
   ]
  },
  {
   "cell_type": "code",
   "execution_count": 18,
   "metadata": {
    "collapsed": false
   },
   "outputs": [
    {
     "name": "stdout",
     "output_type": "stream",
     "text": [
      "\n",
      "\n",
      "\n",
      "\n",
      "Content analysis - Wikipedia\n",
      "document.documentElement.className = document.documentElement.className.replace( /(^|\\s)client-nojs(\\s|$)/, \"$1client-js$2\" );\n",
      "(window.RLQ=window.RLQ||[]).push(functio\n"
     ]
    }
   ],
   "source": [
    "wikiContentSoup = bs4.BeautifulSoup(wikiContentRequest.text, 'html.parser')\n",
    "print(wikiContentSoup.text[:200])"
   ]
  },
  {
   "cell_type": "markdown",
   "metadata": {},
   "source": [
    "This is better but there's still random whitespace and we have more than just\n",
    "the text of the article. This is because what we requested is the whole webpage,\n",
    "not just the text for the article.\n",
    "\n",
    "We want to extract only the text we care about, and in order to do this we will\n",
    "need to inspect the html. One way to do this is simply to go to the website with\n",
    "a browser and use its inspection or view source tool. If javascript or other\n",
    "dynamic loading occurs on the page, however, it is likely that what Python\n",
    "receives is not what you will see, so we will need to inspect what Python\n",
    "receives. To do this we can save the html `requests` obtained."
   ]
  },
  {
   "cell_type": "code",
   "execution_count": 19,
   "metadata": {
    "collapsed": true
   },
   "outputs": [],
   "source": [
    "#content_analysis_save = 'wikipedia_content_analysis.html'\n",
    "\n",
    "with open(content_analysis_save, mode='w', encoding='utf-8') as f:\n",
    "    f.write(wikiContentRequest.text)"
   ]
  },
  {
   "cell_type": "markdown",
   "metadata": {},
   "source": [
    "Now lets open the file (`wikipedia_content_analysis.html`) we just created with\n",
    "a web browser. It should look sort of like the original but without the images\n",
    "and formatting.\n",
    "\n",
    "As there is very little standardization on structuring webpages, figuring out\n",
    "how best to extract what you want is an art. Looking at this page it looks like\n",
    "all the main textual content is inside `<p>`(paragraph) tags within the `<body>`\n",
    "tag."
   ]
  },
  {
   "cell_type": "code",
   "execution_count": 20,
   "metadata": {
    "collapsed": false
   },
   "outputs": [
    {
     "name": "stdout",
     "output_type": "stream",
     "text": [
      "\n",
      "\n",
      "Content analysis is a research method for studying documents and communication artifacts, which can be texts of various formats, pictures, audio or video. Social scientists use content analysis to quantify patterns in communication, in a replicable and systematic manner.[1] One of the key advantage of this research method is to analyse social phenomena in a non-invasive way, in contrast to simulating social experiences or collecting survey answers.\n",
      "Practices and philosophies of content analysis vary between scholarly communities. They all involve systematic reading or observation of texts or artifacts which are assigned labels (sometimes called codes) to indicate the presence of interesting, meaningful patterns.[2][3] After labeling a large set of media, a researcher is able to statistically estimate the proportions of patterns in the texts, as well as correlations between patterns.\n"
     ]
    }
   ],
   "source": [
    "contentPTags = wikiContentSoup.body.findAll('p')\n",
    "for pTag in contentPTags[:3]:\n",
    "    print(pTag.text)"
   ]
  },
  {
   "cell_type": "markdown",
   "metadata": {},
   "source": [
    "We now have all the text from the page, split up by paragraph. If we wanted to\n",
    "get the section headers or references as well it would require a bit more work,\n",
    "but is doable.\n",
    "\n",
    "There is one more thing we might want to do before sending this text to be\n",
    "processed, remove the references indicators (`[2]`, `[3]` , etc). To do this we\n",
    "can use a short regular expression (regex)."
   ]
  },
  {
   "cell_type": "code",
   "execution_count": 21,
   "metadata": {
    "collapsed": false
   },
   "outputs": [
    {
     "name": "stdout",
     "output_type": "stream",
     "text": [
      "                                       paragraph-text\n",
      "0                                                    \n",
      "1   \\nContent analysis is a research method for st...\n",
      "2   Practices and philosophies of content analysis...\n",
      "3   Computers are increasingly used in content ana...\n",
      "4                                                    \n",
      "5                                                    \n",
      "6   Content analysis is best understood as a broad...\n",
      "7   The simplest and most objective form of conten...\n",
      "8   A further step in analysis is the distinction ...\n",
      "9   More generally, content analysis is research u...\n",
      "10  By having contents of communication available ...\n",
      "11  Robert Weber notes: \"To make valid inferences ...\n",
      "12  There are five types of texts in content analy...\n",
      "13  Over the years, content analysis has been appl...\n",
      "14  In recent times, particularly with the advent ...\n",
      "15  Quantitative content analysis has enjoyed a re...\n",
      "16  Recently, Arash Heydarian Pashakhanlou has arg...\n",
      "17  Content analysis can also be described as stud...\n",
      "18  The method of content analysis enables the res...\n",
      "19  Since the 1980s, content analysis has become a...\n",
      "20  The creation of coding frames is intrinsically...\n",
      "21  Mimetic Convergence aims to show the process o...\n",
      "22  Every content analysis should depart from a hy...\n",
      "23  As an evaluation approach, content analysis is...\n",
      "24  Qualitative content analysis is \"a systematic,...\n",
      "25  Holsti groups fifteen uses of content analysis...\n",
      "26  He also places these uses into the context of ...\n",
      "27  The following table shows fifteen uses of cont...\n",
      "28                                                   \n"
     ]
    }
   ],
   "source": [
    "contentParagraphs = []\n",
    "for pTag in contentPTags:\n",
    "    #strings starting with r are raw so their \\'s are not modifier characters\n",
    "    #If we didn't start with r the string would be: '\\\\[\\\\d+\\\\]'\n",
    "    contentParagraphs.append(re.sub(r'\\[\\d+\\]', '', pTag.text))\n",
    "\n",
    "#convert to a DataFrame\n",
    "contentParagraphsDF = pandas.DataFrame({'paragraph-text' : contentParagraphs})\n",
    "print(contentParagraphsDF)"
   ]
  },
  {
   "cell_type": "markdown",
   "metadata": {},
   "source": [
    "Now we have a `DataFrame` containing all relevant text from the page ready to be\n",
    "processed\n",
    "\n",
    "If you are not familiar with regex, it is a way of specifying searches in text.\n",
    "A regex engine takes in the search pattern, in the above case `'\\[\\d+\\]'` and\n",
    "some string, the paragraph texts. Then it reads the input string one character\n",
    "at a time checking if it matches the search. Here the regex `'\\d'` matches\n",
    "number characters (while `'\\['` and `'\\]'` capture the braces on either side)."
   ]
  },
  {
   "cell_type": "code",
   "execution_count": 11,
   "metadata": {
    "collapsed": false
   },
   "outputs": [
    {
     "data": {
      "text/plain": [
       "<_sre.SRE_Match object; span=(36, 37), match='2'>"
      ]
     },
     "execution_count": 11,
     "metadata": {},
     "output_type": "execute_result"
    }
   ],
   "source": [
    "findNumber = r'\\d'\n",
    "regexResults = re.search(findNumber, 'not a number, not a number, numbers 2134567890, not a number')\n",
    "regexResults"
   ]
  },
  {
   "cell_type": "markdown",
   "metadata": {},
   "source": [
    "In Python the regex package (`re`) usually returns `Match` objects (you can have\n",
    "multiple pattern hits in a a single `Match`), to get the string that matched our\n",
    "pattern we can use the `.group()` method, and as we want the first one we will\n",
    "ask for the 0'th group."
   ]
  },
  {
   "cell_type": "code",
   "execution_count": 12,
   "metadata": {
    "collapsed": false
   },
   "outputs": [
    {
     "name": "stdout",
     "output_type": "stream",
     "text": [
      "2\n"
     ]
    }
   ],
   "source": [
    "print(regexResults.group(0))"
   ]
  },
  {
   "cell_type": "markdown",
   "metadata": {},
   "source": [
    "That gives us the first number, if we wanted the whole block of numbers we can\n",
    "add a wildcard `'+'` which requests 1 or more instances of the preceding\n",
    "character."
   ]
  },
  {
   "cell_type": "code",
   "execution_count": 13,
   "metadata": {
    "collapsed": false
   },
   "outputs": [
    {
     "name": "stdout",
     "output_type": "stream",
     "text": [
      "2134567890\n"
     ]
    }
   ],
   "source": [
    "findNumbers = r'\\d+'\n",
    "regexResults = re.search(findNumbers, 'not a number, not a number, numbers 2134567890, not a number')\n",
    "print(regexResults.group(0))"
   ]
  },
  {
   "cell_type": "markdown",
   "metadata": {},
   "source": [
    "Now we have the whole block of numbers, there are a huge number of special\n",
    "characters in regex, for the full description of Python's implementation look at\n",
    "the [re docs](https://docs.python.org/3/library/re.html) there is also a short\n",
    "[tutorial](https://docs.python.org/3/howto/regex.html#regex-howto)."
   ]
  },
  {
   "cell_type": "markdown",
   "metadata": {},
   "source": [
    "# <span style=\"color:red\">Section 1</span>\n",
    "<span style=\"color:red\">Construct cells immediately below this that describe and download webcontent relating to your anticipated final project. Use beautiful soup and at least five regular expressions to extract relevant, nontrivial *chunks* of that content (e.g., cleaned sentences, paragraphs, etc.) to a pandas `Dataframe`.</span>"
   ]
  },
  {
   "cell_type": "code",
   "execution_count": 2,
   "metadata": {
    "collapsed": false
   },
   "outputs": [
    {
     "name": "stdout",
     "output_type": "stream",
     "text": [
      "ing approach to campaign finance reform can’t pass muster in the courts, we need to work together to find a real solution, 'cause it's a problem. And most of you don't like raising money. I know, I've done it. We've got to make it easier to vote, not harder. We need to modernize it for the way we live now. This is America, we want to make it easier for people to participate. And over the course of this year, I intend to travel the country to push for reforms that do just that.</p>\n",
      "<p>But I can’t do these things on my own. Changes in our political process—in not just who gets elected but how they get elected—that will only happen when the American people demand it. It will depend on you. That’s what’s meant by a government of, by, and for the people.</p>\n",
      "<p>What I’m asking for is hard. It’s easier to be cynical; to accept that change isn’t possible, and politics is hopeless, and to believe that our voices and actions don’t matter. But if we give up now, then we forsake a better future. \n"
     ]
    }
   ],
   "source": [
    "# President Obama's 8th state of the union address\n",
    "obamaSpeechRequest = requests.get('https://en.wikisource.org/wiki/Barack_Obama%27s_Eighth_State_of_the_Union_Address')\n",
    "print(obamaSpeechRequest.text[40000:41000])"
   ]
  },
  {
   "cell_type": "code",
   "execution_count": 3,
   "metadata": {
    "collapsed": false
   },
   "outputs": [
    {
     "name": "stdout",
     "output_type": "stream",
     "text": [
      "\n",
      "\n",
      "\n",
      "\n",
      "Barack Obama's Eighth State of the Union Address - Wikisource, the free online library\n",
      "document.documentElement.className = document.documentElement.className.replace( /(^|\\s)client-nojs(\\s|$)/, \"\n"
     ]
    }
   ],
   "source": [
    "obamaSpeechSoup = bs4.BeautifulSoup(obamaSpeechRequest.text, 'html.parser')\n",
    "print(obamaSpeechSoup.text[:200])"
   ]
  },
  {
   "cell_type": "code",
   "execution_count": 4,
   "metadata": {
    "collapsed": false
   },
   "outputs": [],
   "source": [
    "obama_speech_save = 'obama_speech_8.html'\n",
    "\n",
    "with open(obama_speech_save, mode='w', encoding='utf-8') as f:\n",
    "    f.write(obamaSpeechRequest.text)"
   ]
  },
  {
   "cell_type": "code",
   "execution_count": 5,
   "metadata": {
    "collapsed": false
   },
   "outputs": [
    {
     "name": "stdout",
     "output_type": "stream",
     "text": [
      "Mr. Speaker, Mr. Vice President, Members of Congress, my fellow Americans:\n",
      "Tonight marks the eighth year that I’ve come here to report on the State of the Union. And for this final one, I’m going to try to make it shorter. I know some of you are antsy to get back to Iowa. I've been there. I'll be shaking hands afterwards if you want some tips.\n",
      "Now I understand that because it’s an election season, expectations for what we’ll achieve this year are low. But Mr. Speaker, I appreciate the constructive approach that you and the other leaders took at the end of last year to pass a budget and make tax cuts permanent for working families. So I hope we can work together this year on some bipartisan priorities like criminal justice reform, and helping people who are battling prescription drug abuse and heroin abuse. So who knows: we might surprise the cynics again.\n",
      "But tonight, I want to go easy on the traditional list of proposals for the year ahead. Don’t worry: I’ve got plenty, from helping students learn to write computer code to personalizing medical treatments for patients. And I will keep pushing for progress on the work that still needs to be done. Fixing a broken immigration system. Protecting our kids from gun violence. Equal pay for equal work, paid leave, raising the minimum wage. All these things still matter to hardworking families; they are still the right thing to do; and I won't let up until they get done.\n",
      "But for my final address to this chamber, I don’t want to talk just about next year. I want to focus on the next five years, the next ten years, and beyond.\n"
     ]
    }
   ],
   "source": [
    "contentPTags = obamaSpeechSoup.body.findAll('p')\n",
    "for pTag in contentPTags[:5]:\n",
    "    print(pTag.text)"
   ]
  },
  {
   "cell_type": "code",
   "execution_count": 6,
   "metadata": {
    "collapsed": false
   },
   "outputs": [],
   "source": [
    "contentParagraphs = []\n",
    "contentSentences = []\n",
    "contentNumbers = []\n",
    "contentWords = {}\n",
    "for pTag in contentPTags:\n",
    "    # Paragraphs (no regex because no anomalies)\n",
    "    contentParagraphs.append(pTag.text)\n",
    "    # Sentences: https://stackoverflow.com/questions/25735644/python-regex-for-splitting-text-into-sentences-sentence-tokenizing\n",
    "    pat1 = re.split(r'(?<=[^A-Z].[.?]) +(?=[A-Z])', pTag.text)\n",
    "    contentSentences.extend(pat1)\n",
    "    # Numbers: https://stackoverflow.com/questions/16321007/python-regular-expression-regex-match-comma-separated-number-why-does-this-n\n",
    "    pat2 = re.compile(r'\\d+(?:,\\d+)?', re.M)\n",
    "    contentNumbers.extend(pat2.findall(pTag.text))\n",
    "    # Words counts: https://stackoverflow.com/questions/32324405/i-need-a-regular-expression-that-will-deal-with-apostrophes-when-extracting-word\n",
    "    wordList = []\n",
    "    pat3 = re.compile(r\"(?:^|(?<=\\s))[a-z0-9_'\\-]+(?=\\s|$|\\b)\", re.M)\n",
    "    wordList.extend(pat3.findall(pTag.text.lower()))\n",
    "    for word in wordList:\n",
    "        if word not in contentWords:\n",
    "            contentWords[word] = 1\n",
    "        else:\n",
    "            contentWords[word] += 1\n",
    "    \n",
    "contentParagraphsDF = pandas.DataFrame({'paragraph-text' : contentParagraphs})\n",
    "contentSentencesDF = pandas.DataFrame({'sentence-text' : contentSentences})\n",
    "contentNumbersDF = pandas.DataFrame({'numbers-text' : contentNumbers})\n",
    "contentWordsDF = pandas.DataFrame.from_dict(contentWords, orient='index')\n",
    "contentWordsDF.reset_index(inplace = True)\n",
    "contentWordsDF.columns = ['Word','Count']"
   ]
  },
  {
   "cell_type": "markdown",
   "metadata": {},
   "source": [
    "## <span style=\"color:blue\">Notes on Section 1</span>\n",
    "<span style=\"color:blue\">\n",
    "I make a request to wikisources for President Obama's last state of the union speech. From the beautiful soup object of the text returned from this request, I separate out the paragraphs designated by a 'p' tag. From each of these paragraphs, I make a few pandas dataframes. The first dataframe contains one paragraph in each row (no regex necessary, as the text was already clean). The second dataframe contains each of the sentences (the regex splits on positive lookbehinds and lookaheads using uppercase letters in the beginning and punctuation at the end). The third dataframe contains all the numbers in the text (the regex is able to capture commas in the numbers). The fourth dataframe shows a count of the number of times each word appeared in the text. I first regex out each word (apostrophes included, uppercase converted to lower case) and create a dictionary of each word and increment the count if the word is encountered again.</span>"
   ]
  },
  {
   "cell_type": "code",
   "execution_count": 10,
   "metadata": {
    "collapsed": false
   },
   "outputs": [
    {
     "data": {
      "text/html": [
       "<div>\n",
       "<table border=\"1\" class=\"dataframe\">\n",
       "  <thead>\n",
       "    <tr style=\"text-align: right;\">\n",
       "      <th></th>\n",
       "      <th>paragraph-text</th>\n",
       "    </tr>\n",
       "  </thead>\n",
       "  <tbody>\n",
       "    <tr>\n",
       "      <th>0</th>\n",
       "      <td>Mr. Speaker, Mr. Vice President, Members of Co...</td>\n",
       "    </tr>\n",
       "    <tr>\n",
       "      <th>1</th>\n",
       "      <td>Tonight marks the eighth year that I’ve come h...</td>\n",
       "    </tr>\n",
       "    <tr>\n",
       "      <th>2</th>\n",
       "      <td>Now I understand that because it’s an election...</td>\n",
       "    </tr>\n",
       "    <tr>\n",
       "      <th>3</th>\n",
       "      <td>But tonight, I want to go easy on the traditio...</td>\n",
       "    </tr>\n",
       "    <tr>\n",
       "      <th>4</th>\n",
       "      <td>But for my final address to this chamber, I do...</td>\n",
       "    </tr>\n",
       "  </tbody>\n",
       "</table>\n",
       "</div>"
      ],
      "text/plain": [
       "                                      paragraph-text\n",
       "0  Mr. Speaker, Mr. Vice President, Members of Co...\n",
       "1  Tonight marks the eighth year that I’ve come h...\n",
       "2  Now I understand that because it’s an election...\n",
       "3  But tonight, I want to go easy on the traditio...\n",
       "4  But for my final address to this chamber, I do..."
      ]
     },
     "metadata": {},
     "output_type": "display_data"
    },
    {
     "data": {
      "text/html": [
       "<div>\n",
       "<table border=\"1\" class=\"dataframe\">\n",
       "  <thead>\n",
       "    <tr style=\"text-align: right;\">\n",
       "      <th></th>\n",
       "      <th>sentence-text</th>\n",
       "    </tr>\n",
       "  </thead>\n",
       "  <tbody>\n",
       "    <tr>\n",
       "      <th>0</th>\n",
       "      <td>Mr. Speaker, Mr. Vice President, Members of Co...</td>\n",
       "    </tr>\n",
       "    <tr>\n",
       "      <th>1</th>\n",
       "      <td>Tonight marks the eighth year that I’ve come h...</td>\n",
       "    </tr>\n",
       "    <tr>\n",
       "      <th>2</th>\n",
       "      <td>And for this final one, I’m going to try to ma...</td>\n",
       "    </tr>\n",
       "    <tr>\n",
       "      <th>3</th>\n",
       "      <td>I know some of you are antsy to get back to Iowa.</td>\n",
       "    </tr>\n",
       "    <tr>\n",
       "      <th>4</th>\n",
       "      <td>I've been there.</td>\n",
       "    </tr>\n",
       "  </tbody>\n",
       "</table>\n",
       "</div>"
      ],
      "text/plain": [
       "                                       sentence-text\n",
       "0  Mr. Speaker, Mr. Vice President, Members of Co...\n",
       "1  Tonight marks the eighth year that I’ve come h...\n",
       "2  And for this final one, I’m going to try to ma...\n",
       "3  I know some of you are antsy to get back to Iowa.\n",
       "4                                   I've been there."
      ]
     },
     "metadata": {},
     "output_type": "display_data"
    },
    {
     "data": {
      "text/html": [
       "<div>\n",
       "<table border=\"1\" class=\"dataframe\">\n",
       "  <thead>\n",
       "    <tr style=\"text-align: right;\">\n",
       "      <th></th>\n",
       "      <th>numbers-text</th>\n",
       "    </tr>\n",
       "  </thead>\n",
       "  <tbody>\n",
       "    <tr>\n",
       "      <th>0</th>\n",
       "      <td>14</td>\n",
       "    </tr>\n",
       "    <tr>\n",
       "      <th>1</th>\n",
       "      <td>90</td>\n",
       "    </tr>\n",
       "    <tr>\n",
       "      <th>2</th>\n",
       "      <td>900,000</td>\n",
       "    </tr>\n",
       "    <tr>\n",
       "      <th>3</th>\n",
       "      <td>30</td>\n",
       "    </tr>\n",
       "    <tr>\n",
       "      <th>4</th>\n",
       "      <td>200</td>\n",
       "    </tr>\n",
       "  </tbody>\n",
       "</table>\n",
       "</div>"
      ],
      "text/plain": [
       "  numbers-text\n",
       "0           14\n",
       "1           90\n",
       "2      900,000\n",
       "3           30\n",
       "4          200"
      ]
     },
     "metadata": {},
     "output_type": "display_data"
    },
    {
     "data": {
      "text/html": [
       "<div>\n",
       "<table border=\"1\" class=\"dataframe\">\n",
       "  <thead>\n",
       "    <tr style=\"text-align: right;\">\n",
       "      <th></th>\n",
       "      <th>Word</th>\n",
       "      <th>Count</th>\n",
       "    </tr>\n",
       "  </thead>\n",
       "  <tbody>\n",
       "    <tr>\n",
       "      <th>0</th>\n",
       "      <td>mr</td>\n",
       "      <td>3</td>\n",
       "    </tr>\n",
       "    <tr>\n",
       "      <th>1</th>\n",
       "      <td>speaker</td>\n",
       "      <td>3</td>\n",
       "    </tr>\n",
       "    <tr>\n",
       "      <th>2</th>\n",
       "      <td>vice</td>\n",
       "      <td>2</td>\n",
       "    </tr>\n",
       "    <tr>\n",
       "      <th>3</th>\n",
       "      <td>president</td>\n",
       "      <td>6</td>\n",
       "    </tr>\n",
       "    <tr>\n",
       "      <th>4</th>\n",
       "      <td>members</td>\n",
       "      <td>1</td>\n",
       "    </tr>\n",
       "  </tbody>\n",
       "</table>\n",
       "</div>"
      ],
      "text/plain": [
       "        Word  Count\n",
       "0         mr      3\n",
       "1    speaker      3\n",
       "2       vice      2\n",
       "3  president      6\n",
       "4    members      1"
      ]
     },
     "metadata": {},
     "output_type": "display_data"
    }
   ],
   "source": [
    "display(contentParagraphsDF.head())\n",
    "display(contentSentencesDF.head())\n",
    "display(contentNumbersDF.head())\n",
    "display(contentWordsDF.head())"
   ]
  },
  {
   "cell_type": "markdown",
   "metadata": {},
   "source": [
    "\n",
    "# Spidering\n",
    "\n",
    "What if we want to to get a bunch of different pages from wikipedia. We would\n",
    "need to get the url for each of the pages we want. Typically, we want pages that\n",
    "are linked to by other pages and so we will need to parse pages and identify the\n",
    "links. Right now we will be retrieving all links in the body of the content\n",
    "analysis page.\n",
    "\n",
    "To do this we will need to find all the `<a>` (anchor) tags with `href`s\n",
    "(hyperlink references) inside of `<p>` tags. `href` can have many\n",
    "[different](http://stackoverflow.com/questions/4855168/what-is-href-and-why-is-\n",
    "it-used) [forms](https://en.wikipedia.org/wiki/Hyperlink#Hyperlinks_in_HTML) so\n",
    "dealing with them can be tricky, but generally, you will want to extract\n",
    "absolute or relative links. An absolute link is one you can follow without\n",
    "modification, while a relative link requires a base url that you will then\n",
    "append. Wikipedia uses relative urls for its internal links: below is an example\n",
    "for dealing with them."
   ]
  },
  {
   "cell_type": "code",
   "execution_count": 167,
   "metadata": {
    "collapsed": false
   },
   "outputs": [
    {
     "name": "stdout",
     "output_type": "stream",
     "text": [
      "[('https://en.wikipedia.org/wiki/Document', 1, 'documents'), ('https://en.wikipedia.org/wiki/Text_(literary_theory)', 2, 'texts'), ('https://en.wikipedia.org/wiki/Semantics', 2, 'meaningful'), ('https://en.wikipedia.org/wiki/Machine_learning', 3, 'Machine learning'), ('https://en.wikipedia.org/wiki/Klaus_Krippendorff', 6, 'Klaus Krippendorff'), ('https://en.wikipedia.org/wiki/Radio', 7, 'radio'), ('https://en.wikipedia.org/wiki/Television', 7, 'television'), ('https://en.wikipedia.org/wiki/Key_Word_in_Context', 7, 'Keyword In Context'), ('https://en.wikipedia.org/wiki/Synonym', 7, 'synonyms'), ('https://en.wikipedia.org/wiki/Homonym', 7, 'homonyms')]\n"
     ]
    }
   ],
   "source": [
    "#wikipedia_base_url = 'https://en.wikipedia.org'\n",
    "\n",
    "otherPAgeURLS = []\n",
    "#We also want to know where the links come from so we also will get:\n",
    "#the paragraph number\n",
    "#the word the link is in\n",
    "for paragraphNum, pTag in enumerate(contentPTags):\n",
    "    #we only want hrefs that link to wiki pages\n",
    "    tagLinks = pTag.findAll('a', href=re.compile('/wiki/'), class_=False)\n",
    "    for aTag in tagLinks:\n",
    "        #We need to extract the url from the <a> tag\n",
    "        relurl = aTag.get('href')\n",
    "        linkText = aTag.text\n",
    "        #wikipedia_base_url is the base we can use the urllib joining function to merge them\n",
    "        #Giving a nice structured tupe like this means we can use tuple expansion later\n",
    "        otherPAgeURLS.append((\n",
    "            urllib.parse.urljoin(wikipedia_base_url, relurl),\n",
    "            paragraphNum,\n",
    "            linkText,\n",
    "        ))\n",
    "print(otherPAgeURLS[:10])"
   ]
  },
  {
   "cell_type": "markdown",
   "metadata": {},
   "source": [
    "We will be adding these new texts to our DataFrame `contentParagraphsDF` so we\n",
    "will need to add 2 more columns to keep track of paragraph numbers and sources."
   ]
  },
  {
   "cell_type": "code",
   "execution_count": 32,
   "metadata": {
    "collapsed": false
   },
   "outputs": [
    {
     "data": {
      "text/html": [
       "<div>\n",
       "<table border=\"1\" class=\"dataframe\">\n",
       "  <thead>\n",
       "    <tr style=\"text-align: right;\">\n",
       "      <th></th>\n",
       "      <th>paragraph-text</th>\n",
       "      <th>source</th>\n",
       "      <th>paragraph-number</th>\n",
       "    </tr>\n",
       "  </thead>\n",
       "  <tbody>\n",
       "    <tr>\n",
       "      <th>0</th>\n",
       "      <td></td>\n",
       "      <td>https://en.wikipedia.org/wiki/Content_analysis</td>\n",
       "      <td>0</td>\n",
       "    </tr>\n",
       "    <tr>\n",
       "      <th>1</th>\n",
       "      <td>\\nContent analysis is a research method for st...</td>\n",
       "      <td>https://en.wikipedia.org/wiki/Content_analysis</td>\n",
       "      <td>1</td>\n",
       "    </tr>\n",
       "    <tr>\n",
       "      <th>2</th>\n",
       "      <td>Practices and philosophies of content analysis...</td>\n",
       "      <td>https://en.wikipedia.org/wiki/Content_analysis</td>\n",
       "      <td>2</td>\n",
       "    </tr>\n",
       "    <tr>\n",
       "      <th>3</th>\n",
       "      <td>Computers are increasingly used in content ana...</td>\n",
       "      <td>https://en.wikipedia.org/wiki/Content_analysis</td>\n",
       "      <td>3</td>\n",
       "    </tr>\n",
       "    <tr>\n",
       "      <th>4</th>\n",
       "      <td></td>\n",
       "      <td>https://en.wikipedia.org/wiki/Content_analysis</td>\n",
       "      <td>4</td>\n",
       "    </tr>\n",
       "  </tbody>\n",
       "</table>\n",
       "</div>"
      ],
      "text/plain": [
       "                                      paragraph-text  \\\n",
       "0                                                      \n",
       "1  \\nContent analysis is a research method for st...   \n",
       "2  Practices and philosophies of content analysis...   \n",
       "3  Computers are increasingly used in content ana...   \n",
       "4                                                      \n",
       "\n",
       "                                           source  paragraph-number  \n",
       "0  https://en.wikipedia.org/wiki/Content_analysis                 0  \n",
       "1  https://en.wikipedia.org/wiki/Content_analysis                 1  \n",
       "2  https://en.wikipedia.org/wiki/Content_analysis                 2  \n",
       "3  https://en.wikipedia.org/wiki/Content_analysis                 3  \n",
       "4  https://en.wikipedia.org/wiki/Content_analysis                 4  "
      ]
     },
     "execution_count": 32,
     "metadata": {},
     "output_type": "execute_result"
    }
   ],
   "source": [
    "contentParagraphsDF['source'] = [wikipedia_content_analysis] * len(contentParagraphsDF['paragraph-text'])\n",
    "contentParagraphsDF['paragraph-number'] = range(len(contentParagraphsDF['paragraph-text']))\n",
    "\n",
    "contentParagraphsDF.head()"
   ]
  },
  {
   "cell_type": "markdown",
   "metadata": {},
   "source": [
    "Then we can add two more columns to our `Dataframe` and define a function to\n",
    "parse\n",
    "each linked page and add its text to our DataFrame."
   ]
  },
  {
   "cell_type": "code",
   "execution_count": 33,
   "metadata": {
    "collapsed": true
   },
   "outputs": [],
   "source": [
    "contentParagraphsDF['source-paragraph-number'] = [None] * len(contentParagraphsDF['paragraph-text'])\n",
    "contentParagraphsDF['source-paragraph-text'] = [None] * len(contentParagraphsDF['paragraph-text'])\n",
    "\n",
    "def getTextFromWikiPage(targetURL, sourceParNum, sourceText):\n",
    "    #Make a dict to store data before adding it to the DataFrame\n",
    "    parsDict = {'source' : [], 'paragraph-number' : [], 'paragraph-text' : [], 'source-paragraph-number' : [],  'source-paragraph-text' : []}\n",
    "    #Now we get the page\n",
    "    r = requests.get(targetURL)\n",
    "    soup = bs4.BeautifulSoup(r.text, 'html.parser')\n",
    "    #enumerating gives use the paragraph number\n",
    "    for parNum, pTag in enumerate(soup.body.findAll('p')):\n",
    "        #same regex as before\n",
    "        parsDict['paragraph-text'].append(re.sub(r'\\[\\d+\\]', '', pTag.text))\n",
    "        parsDict['paragraph-number'].append(parNum)\n",
    "        parsDict['source'].append(targetURL)\n",
    "        parsDict['source-paragraph-number'].append(sourceParNum)\n",
    "        parsDict['source-paragraph-text'].append(sourceText)\n",
    "    return pandas.DataFrame(parsDict)"
   ]
  },
  {
   "cell_type": "markdown",
   "metadata": {},
   "source": [
    "And run it on our list of link tags"
   ]
  },
  {
   "cell_type": "code",
   "execution_count": 37,
   "metadata": {
    "collapsed": false
   },
   "outputs": [
    {
     "data": {
      "text/html": [
       "<div>\n",
       "<table border=\"1\" class=\"dataframe\">\n",
       "  <thead>\n",
       "    <tr style=\"text-align: right;\">\n",
       "      <th></th>\n",
       "      <th>paragraph-number</th>\n",
       "      <th>paragraph-text</th>\n",
       "      <th>source</th>\n",
       "      <th>source-paragraph-number</th>\n",
       "      <th>source-paragraph-text</th>\n",
       "    </tr>\n",
       "  </thead>\n",
       "  <tbody>\n",
       "    <tr>\n",
       "      <th>0</th>\n",
       "      <td>0</td>\n",
       "      <td></td>\n",
       "      <td>https://en.wikipedia.org/wiki/Content_analysis</td>\n",
       "      <td>NaN</td>\n",
       "      <td>None</td>\n",
       "    </tr>\n",
       "    <tr>\n",
       "      <th>1</th>\n",
       "      <td>1</td>\n",
       "      <td>\\nContent analysis is a research method for st...</td>\n",
       "      <td>https://en.wikipedia.org/wiki/Content_analysis</td>\n",
       "      <td>NaN</td>\n",
       "      <td>None</td>\n",
       "    </tr>\n",
       "    <tr>\n",
       "      <th>2</th>\n",
       "      <td>2</td>\n",
       "      <td>Practices and philosophies of content analysis...</td>\n",
       "      <td>https://en.wikipedia.org/wiki/Content_analysis</td>\n",
       "      <td>NaN</td>\n",
       "      <td>None</td>\n",
       "    </tr>\n",
       "    <tr>\n",
       "      <th>3</th>\n",
       "      <td>3</td>\n",
       "      <td>Computers are increasingly used in content ana...</td>\n",
       "      <td>https://en.wikipedia.org/wiki/Content_analysis</td>\n",
       "      <td>NaN</td>\n",
       "      <td>None</td>\n",
       "    </tr>\n",
       "    <tr>\n",
       "      <th>4</th>\n",
       "      <td>4</td>\n",
       "      <td></td>\n",
       "      <td>https://en.wikipedia.org/wiki/Content_analysis</td>\n",
       "      <td>NaN</td>\n",
       "      <td>None</td>\n",
       "    </tr>\n",
       "  </tbody>\n",
       "</table>\n",
       "</div>"
      ],
      "text/plain": [
       "   paragraph-number                                     paragraph-text  \\\n",
       "0                 0                                                      \n",
       "1                 1  \\nContent analysis is a research method for st...   \n",
       "2                 2  Practices and philosophies of content analysis...   \n",
       "3                 3  Computers are increasingly used in content ana...   \n",
       "4                 4                                                      \n",
       "\n",
       "                                           source  source-paragraph-number  \\\n",
       "0  https://en.wikipedia.org/wiki/Content_analysis                      NaN   \n",
       "1  https://en.wikipedia.org/wiki/Content_analysis                      NaN   \n",
       "2  https://en.wikipedia.org/wiki/Content_analysis                      NaN   \n",
       "3  https://en.wikipedia.org/wiki/Content_analysis                      NaN   \n",
       "4  https://en.wikipedia.org/wiki/Content_analysis                      NaN   \n",
       "\n",
       "  source-paragraph-text  \n",
       "0                  None  \n",
       "1                  None  \n",
       "2                  None  \n",
       "3                  None  \n",
       "4                  None  "
      ]
     },
     "execution_count": 37,
     "metadata": {},
     "output_type": "execute_result"
    }
   ],
   "source": [
    "for urlTuple in otherPAgeURLS[:3]:\n",
    "    #ignore_index means the indices will not be reset after each append\n",
    "    contentParagraphsDF = contentParagraphsDF.append(getTextFromWikiPage(*urlTuple),ignore_index=True)\n",
    "contentParagraphsDF.head()"
   ]
  },
  {
   "cell_type": "markdown",
   "metadata": {},
   "source": [
    "\n",
    "# <span style=\"color:red\">Section 2</span>\n",
    "<span style=\"color:red\">Construct cells immediately below this that spider webcontent from another site with content relating to your anticipated final project. Specifically, identify urls on a core page, then follow and extract content from them into a pandas `Dataframe`. In addition, demonstrate a *recursive* spider, which follows more than one level of links (i.e., follows links from a site, then follows links on followed sites to new sites, etc.), making sure to define a reasonable endpoint so that you do not wander the web forever :-).</span>\n",
    "\n"
   ]
  },
  {
   "cell_type": "code",
   "execution_count": 165,
   "metadata": {
    "collapsed": false
   },
   "outputs": [],
   "source": [
    "speech_urls = []\n",
    "links_URL = 'https://millercenter.org/the-presidency/presidential-speeches'\n",
    "prefix_URL = 'https://millercenter.org/'\n",
    "ajax_URL = 'https://millercenter.org/views/ajax?_wrapper_format=drupal_ajax'\n",
    "\n",
    "#payload and headers for the simulated ajax post request\n",
    "ajax_POST_data = {'view_name':'presidential_speech',\n",
    "                 'view_display_id':'presidential_speech_view_block',\n",
    "                 'view_args':'all',\n",
    "                 'view_path':'/the-presidency/presidential-speeches',\n",
    "                 'view_base_path':'',\n",
    "                 'view_dom_id':'84950cef194ed5113fc364b1d099c03e19a535fe57e7765d4dbd77cc5ea9915d',\n",
    "                 'pager_element':'0',\n",
    "                 'page':'0',\n",
    "                 '_drupal_ajax':'1'}\n",
    "ajax_POST_headers = {'Host': 'millercenter.org',      \n",
    "                    'Referer': 'https://millercenter.org/the-presidency/presidential-speeches',\n",
    "                    'X-Requested-With': 'XMLHttpRequest',\n",
    "                    'Content-Length': '869'}\n",
    "\n",
    "#Initializing session for simulating infinite scrolling ajax request\n",
    "session = requests.Session()\n",
    "response = session.post(url=ajax_URL, data=ajax_POST_data, headers=ajax_POST_headers)\n",
    "while(response.status_code == 200):\n",
    "    #hard coding to the response's expected structure\n",
    "    ajaxhtmladdition = response.json()[-1]['data']\n",
    "    links_soup = bs4.BeautifulSoup(ajaxhtmladdition, \"lxml\")\n",
    "    tags_found = links_soup.find_all('a', href=True)\n",
    "    for tag in tags_found:\n",
    "        link = tag.attrs['href']\n",
    "        if 'ajax' not in link: #it's a valid presidential speech link, not a drupal thing\n",
    "            speech_urls.append(link)\n",
    "    if len(tags_found) == 0:\n",
    "        break\n",
    "    ajax_POST_data['page'] = str(int(ajax_POST_data['page']) + 1)\n",
    "    response = session.post(url=ajax_URL, data=ajax_POST_data, headers=ajax_POST_headers)\n"
   ]
  },
  {
   "cell_type": "code",
   "execution_count": 216,
   "metadata": {
    "collapsed": true
   },
   "outputs": [],
   "source": [
    "def getTextFromMillerCenter(baseUrl, urlList):\n",
    "    \n",
    "    #Dictionary to build for dataframe\n",
    "    parsDict = {'source': [], 'text': [], 'title': [], 'president': []}\n",
    "\n",
    "    for relurl in urlList:\n",
    "        #Get page\n",
    "        url = urllib.parse.urljoin(baseUrl, relurl)\n",
    "        request = requests.get(url)\n",
    "        contentSoup = bs4.BeautifulSoup(request.text, 'html.parser')\n",
    "        \n",
    "        #URL\n",
    "        parsDict['source'].append(url)\n",
    "        \n",
    "        #Text of speech\n",
    "        contentTag = contentSoup.findAll('div',{'class' : 'transcript-inner'})\n",
    "        for content in contentTag:\n",
    "            text0 = content.text[11:] #leave out first word ('transcript')\n",
    "            text1 = re.sub(r'\\n', ' ', text0)\n",
    "            text2 = re.sub(r'\\s\\s', ' ', text1)  \n",
    "            text = re.sub(r'\\xa0', '', text2)  \n",
    "            parsDict['text'].append(text.replace(\"(Applause.) \", ''))\n",
    "        \n",
    "        #President\n",
    "        presidentTag = contentSoup.findAll('p',{'class' : 'president-name'})\n",
    "        for president in presidentTag:\n",
    "            parsDict['president'].append(president.text)\n",
    "       \n",
    "    \n",
    "        #Title (date, occasion) of speech\n",
    "        titleTag = contentSoup.findAll('title')\n",
    "        for title in titleTag:\n",
    "            parsDict['title'].append(title.text.replace(' | Miller Center', '')) \n",
    "    \n",
    "    return pandas.DataFrame(parsDict)\n"
   ]
  },
  {
   "cell_type": "code",
   "execution_count": 217,
   "metadata": {
    "collapsed": false
   },
   "outputs": [
    {
     "data": {
      "text/html": [
       "<div>\n",
       "<table border=\"1\" class=\"dataframe\">\n",
       "  <thead>\n",
       "    <tr style=\"text-align: right;\">\n",
       "      <th></th>\n",
       "      <th>president</th>\n",
       "      <th>source</th>\n",
       "      <th>text</th>\n",
       "      <th>title</th>\n",
       "    </tr>\n",
       "  </thead>\n",
       "  <tbody>\n",
       "    <tr>\n",
       "      <th>0</th>\n",
       "      <td>Donald Trump</td>\n",
       "      <td>https://millercenter.org/the-presidency/presid...</td>\n",
       "      <td>Mr. Speaker, Mr. Vice President, Members of C...</td>\n",
       "      <td>February 28, 2017: Address to Joint Session of...</td>\n",
       "    </tr>\n",
       "    <tr>\n",
       "      <th>1</th>\n",
       "      <td>Donald Trump</td>\n",
       "      <td>https://millercenter.org/the-presidency/presid...</td>\n",
       "      <td>Chief Justice Roberts, President Carter, Pres...</td>\n",
       "      <td>January 20, 2017: Inaugural Address</td>\n",
       "    </tr>\n",
       "    <tr>\n",
       "      <th>2</th>\n",
       "      <td>Barack Obama</td>\n",
       "      <td>https://millercenter.org/the-presidency/presid...</td>\n",
       "      <td>Hello Rutgers! R-U rah-rah! Thank you so much...</td>\n",
       "      <td>May 15, 2016: Commencement Address at Rutgers ...</td>\n",
       "    </tr>\n",
       "    <tr>\n",
       "      <th>3</th>\n",
       "      <td>Barack Obama</td>\n",
       "      <td>https://millercenter.org/the-presidency/presid...</td>\n",
       "      <td>Thank you. Muchas gracias. Thank you so much....</td>\n",
       "      <td>March 22, 2016: Remarks to the People of Cuba</td>\n",
       "    </tr>\n",
       "    <tr>\n",
       "      <th>4</th>\n",
       "      <td>Barack Obama</td>\n",
       "      <td>https://millercenter.org/the-presidency/presid...</td>\n",
       "      <td>Mr. Speaker, Mr. Vice President, Members of C...</td>\n",
       "      <td>January 12, 2016: 2016 State of the Union Address</td>\n",
       "    </tr>\n",
       "    <tr>\n",
       "      <th>5</th>\n",
       "      <td>Barack Obama</td>\n",
       "      <td>https://millercenter.org/the-presidency/presid...</td>\n",
       "      <td>THE PRESIDENT: Giving all praise and honor to...</td>\n",
       "      <td>June 26, 2015: Remarks in Eulogy for the Honor...</td>\n",
       "    </tr>\n",
       "    <tr>\n",
       "      <th>6</th>\n",
       "      <td>Barack Obama</td>\n",
       "      <td>https://millercenter.org/the-presidency/presid...</td>\n",
       "      <td>UDIENCE MEMBER: We love you, President Obama!...</td>\n",
       "      <td>March 7, 2015: Remarks at the 50th Anniversary...</td>\n",
       "    </tr>\n",
       "    <tr>\n",
       "      <th>7</th>\n",
       "      <td>Barack Obama</td>\n",
       "      <td>https://millercenter.org/the-presidency/presid...</td>\n",
       "      <td>Mr. Speaker, Mr. Vice President, Members of C...</td>\n",
       "      <td>January 20, 2015: 2015 State of the Union Address</td>\n",
       "    </tr>\n",
       "    <tr>\n",
       "      <th>8</th>\n",
       "      <td>Barack Obama</td>\n",
       "      <td>https://millercenter.org/the-presidency/presid...</td>\n",
       "      <td>My fellow Americans, tonight, I’d like to tal...</td>\n",
       "      <td>November 20, 2014: Address to the Nation on Im...</td>\n",
       "    </tr>\n",
       "    <tr>\n",
       "      <th>9</th>\n",
       "      <td>Barack Obama</td>\n",
       "      <td>https://millercenter.org/the-presidency/presid...</td>\n",
       "      <td>Mr. Speaker, Mr. Vice President, Members of C...</td>\n",
       "      <td>January 28, 2014: 2014 State of the Union Address</td>\n",
       "    </tr>\n",
       "    <tr>\n",
       "      <th>10</th>\n",
       "      <td>Barack Obama</td>\n",
       "      <td>https://millercenter.org/the-presidency/presid...</td>\n",
       "      <td>Thank you. Thank you, everybody. Thank you s...</td>\n",
       "      <td>December 4, 2013: Speech on Economic Mobility</td>\n",
       "    </tr>\n",
       "    <tr>\n",
       "      <th>11</th>\n",
       "      <td>Barack Obama</td>\n",
       "      <td>https://millercenter.org/the-presidency/presid...</td>\n",
       "      <td>My fellow Americans, tonight I want to talk t...</td>\n",
       "      <td>September 10, 2013: Address to the Nation on S...</td>\n",
       "    </tr>\n",
       "    <tr>\n",
       "      <th>12</th>\n",
       "      <td>Barack Obama</td>\n",
       "      <td>https://millercenter.org/the-presidency/presid...</td>\n",
       "      <td>Hello, Warrensburg! Hello, Mules! Hello, Jenn...</td>\n",
       "      <td>July 24, 2013: Remarks on Education and the Ec...</td>\n",
       "    </tr>\n",
       "    <tr>\n",
       "      <th>13</th>\n",
       "      <td>Barack Obama</td>\n",
       "      <td>https://millercenter.org/the-presidency/presid...</td>\n",
       "      <td>I wanted to come out here, first of all, to t...</td>\n",
       "      <td>July 19, 2013: Remarks on Trayvon Martin</td>\n",
       "    </tr>\n",
       "    <tr>\n",
       "      <th>14</th>\n",
       "      <td>Barack Obama</td>\n",
       "      <td>https://millercenter.org/the-presidency/presid...</td>\n",
       "      <td>Hello, Connecticut. Thank you. Well, thank yo...</td>\n",
       "      <td>April 8, 2013: Speech on Gun Violence</td>\n",
       "    </tr>\n",
       "    <tr>\n",
       "      <th>15</th>\n",
       "      <td>Barack Obama</td>\n",
       "      <td>https://millercenter.org/the-presidency/presid...</td>\n",
       "      <td>Thank you. Thank you so much. Well, it is a g...</td>\n",
       "      <td>March 21, 2013: Address to the People of Israel</td>\n",
       "    </tr>\n",
       "    <tr>\n",
       "      <th>16</th>\n",
       "      <td>Barack Obama</td>\n",
       "      <td>https://millercenter.org/the-presidency/presid...</td>\n",
       "      <td>Good morning, everybody. As you know, I just ...</td>\n",
       "      <td>March 1, 2013: Statement on the Government Seq...</td>\n",
       "    </tr>\n",
       "    <tr>\n",
       "      <th>17</th>\n",
       "      <td>Barack Obama</td>\n",
       "      <td>https://millercenter.org/the-presidency/presid...</td>\n",
       "      <td>Mr. Speaker, Mr. Vice President, members of ...</td>\n",
       "      <td>February 13, 2013: 2013 State of the Union Add...</td>\n",
       "    </tr>\n",
       "    <tr>\n",
       "      <th>18</th>\n",
       "      <td>Barack Obama</td>\n",
       "      <td>https://millercenter.org/the-presidency/presid...</td>\n",
       "      <td>Thank you! Thank you! Thank you so much. It i...</td>\n",
       "      <td>January 29, 2013: Remarks on Immigration Reform</td>\n",
       "    </tr>\n",
       "    <tr>\n",
       "      <th>19</th>\n",
       "      <td>Barack Obama</td>\n",
       "      <td>https://millercenter.org/the-presidency/presid...</td>\n",
       "      <td>Vice President Biden, Mr. Chief Justice, mem...</td>\n",
       "      <td>January 21, 2013: Second Inaugural Address</td>\n",
       "    </tr>\n",
       "    <tr>\n",
       "      <th>20</th>\n",
       "      <td>Barack Obama</td>\n",
       "      <td>https://millercenter.org/the-presidency/presid...</td>\n",
       "      <td>Thank you. Thank you, Governor. To all the fa...</td>\n",
       "      <td>December 16, 2012: Remarks on Sandy Hook Eleme...</td>\n",
       "    </tr>\n",
       "    <tr>\n",
       "      <th>21</th>\n",
       "      <td>Barack Obama</td>\n",
       "      <td>https://millercenter.org/the-presidency/presid...</td>\n",
       "      <td>Tonight, more than 200 years after a former c...</td>\n",
       "      <td>November 6, 2012: 2012 Election Night Victory ...</td>\n",
       "    </tr>\n",
       "    <tr>\n",
       "      <th>22</th>\n",
       "      <td>Barack Obama</td>\n",
       "      <td>https://millercenter.org/the-presidency/presid...</td>\n",
       "      <td>THE PRESIDENT: Thank you. Thank you. Thank yo...</td>\n",
       "      <td>September 6, 2012: Nominee Acceptance Speech a...</td>\n",
       "    </tr>\n",
       "    <tr>\n",
       "      <th>23</th>\n",
       "      <td>Barack Obama</td>\n",
       "      <td>https://millercenter.org/the-presidency/presid...</td>\n",
       "      <td>Mr. Speaker, Mr. Vice President, members of C...</td>\n",
       "      <td>January 24, 2012: 2012 State of the Union Address</td>\n",
       "    </tr>\n",
       "    <tr>\n",
       "      <th>24</th>\n",
       "      <td>Barack Obama</td>\n",
       "      <td>https://millercenter.org/the-presidency/presid...</td>\n",
       "      <td>Good afternoon, everybody. As a candidate for...</td>\n",
       "      <td>October 21, 2011: Remarks on the End of the Wa...</td>\n",
       "    </tr>\n",
       "    <tr>\n",
       "      <th>25</th>\n",
       "      <td>Barack Obama</td>\n",
       "      <td>https://millercenter.org/the-presidency/presid...</td>\n",
       "      <td>Mr. Speaker, Mr. Vice President, members of C...</td>\n",
       "      <td>September 8, 2011: Address to Congress on the ...</td>\n",
       "    </tr>\n",
       "    <tr>\n",
       "      <th>26</th>\n",
       "      <td>Barack Obama</td>\n",
       "      <td>https://millercenter.org/the-presidency/presid...</td>\n",
       "      <td>Good evening. Nearly 10 years ago, America su...</td>\n",
       "      <td>June 22, 2011: Remarks on the Afghanistan Pullout</td>\n",
       "    </tr>\n",
       "    <tr>\n",
       "      <th>27</th>\n",
       "      <td>Barack Obama</td>\n",
       "      <td>https://millercenter.org/the-presidency/presid...</td>\n",
       "      <td>Thank you very much. Thank you.   My Lord Cha...</td>\n",
       "      <td>May 25, 2011: Address to the British Parliament</td>\n",
       "    </tr>\n",
       "    <tr>\n",
       "      <th>28</th>\n",
       "      <td>Barack Obama</td>\n",
       "      <td>https://millercenter.org/the-presidency/presid...</td>\n",
       "      <td>Thank you. Thank you. Thank you very much. Th...</td>\n",
       "      <td>May 19, 2011: Speech on American Diplomacy in ...</td>\n",
       "    </tr>\n",
       "    <tr>\n",
       "      <th>29</th>\n",
       "      <td>Barack Obama</td>\n",
       "      <td>https://millercenter.org/the-presidency/presid...</td>\n",
       "      <td>ood evening. Tonight, I can report to the Ame...</td>\n",
       "      <td>May 1, 2011: Remarks on the Death of Osama Bin...</td>\n",
       "    </tr>\n",
       "    <tr>\n",
       "      <th>30</th>\n",
       "      <td>Barack Obama</td>\n",
       "      <td>https://millercenter.org/the-presidency/presid...</td>\n",
       "      <td>Mr. Speaker, Mr. Vice President, members of C...</td>\n",
       "      <td>January 25, 2011: 2011 State of the Union Address</td>\n",
       "    </tr>\n",
       "    <tr>\n",
       "      <th>31</th>\n",
       "      <td>Barack Obama</td>\n",
       "      <td>https://millercenter.org/the-presidency/presid...</td>\n",
       "      <td>Thank you. Thank you very much. Please, pleas...</td>\n",
       "      <td>January 12, 2011: Remarks at Memorial for Vict...</td>\n",
       "    </tr>\n",
       "    <tr>\n",
       "      <th>32</th>\n",
       "      <td>Barack Obama</td>\n",
       "      <td>https://millercenter.org/the-presidency/presid...</td>\n",
       "      <td>THE PRESIDENT: Good afternoon, everybody. Las...</td>\n",
       "      <td>November 3, 2010: Press Conference After 2010 ...</td>\n",
       "    </tr>\n",
       "    <tr>\n",
       "      <th>33</th>\n",
       "      <td>Barack Obama</td>\n",
       "      <td>https://millercenter.org/the-presidency/presid...</td>\n",
       "      <td>THE PRESIDENT: Mr. President, Mr. Secretary-G...</td>\n",
       "      <td>September 23, 2010: Address to the United Nations</td>\n",
       "    </tr>\n",
       "    <tr>\n",
       "      <th>34</th>\n",
       "      <td>Barack Obama</td>\n",
       "      <td>https://millercenter.org/the-presidency/presid...</td>\n",
       "      <td>Good evening. Tonight, I’d like to talk to yo...</td>\n",
       "      <td>August 31, 2010: Address on the End of the Com...</td>\n",
       "    </tr>\n",
       "    <tr>\n",
       "      <th>35</th>\n",
       "      <td>Barack Obama</td>\n",
       "      <td>https://millercenter.org/the-presidency/presid...</td>\n",
       "      <td>Good evening. As we speak, our nation faces a...</td>\n",
       "      <td>June 15, 2010: Speech on the BP Oil Spill</td>\n",
       "    </tr>\n",
       "    <tr>\n",
       "      <th>36</th>\n",
       "      <td>Barack Obama</td>\n",
       "      <td>https://millercenter.org/the-presidency/presid...</td>\n",
       "      <td>Thank you very much. Everybody, please have a...</td>\n",
       "      <td>April 28, 2010: Remarks on Wall Street Reform</td>\n",
       "    </tr>\n",
       "    <tr>\n",
       "      <th>37</th>\n",
       "      <td>Barack Obama</td>\n",
       "      <td>https://millercenter.org/the-presidency/presid...</td>\n",
       "      <td>Thank you, everybody. Thank you. Thank you so...</td>\n",
       "      <td>April 15, 2010: Remarks on Space Exploration i...</td>\n",
       "    </tr>\n",
       "    <tr>\n",
       "      <th>38</th>\n",
       "      <td>Barack Obama</td>\n",
       "      <td>https://millercenter.org/the-presidency/presid...</td>\n",
       "      <td>THE PRESIDENT: Hello, Ohio! It is good to be ...</td>\n",
       "      <td>March 15, 2010: Speech on Health Care Reform</td>\n",
       "    </tr>\n",
       "    <tr>\n",
       "      <th>39</th>\n",
       "      <td>Barack Obama</td>\n",
       "      <td>https://millercenter.org/the-presidency/presid...</td>\n",
       "      <td>THE PRESIDENT: Hello, everybody. I am glad to...</td>\n",
       "      <td>February 9, 2010: News Conference on Congressi...</td>\n",
       "    </tr>\n",
       "    <tr>\n",
       "      <th>40</th>\n",
       "      <td>Barack Obama</td>\n",
       "      <td>https://millercenter.org/the-presidency/presid...</td>\n",
       "      <td>Madam Speaker, Vice President Biden, Members ...</td>\n",
       "      <td>January 27, 2010: 2010 State of the Union Address</td>\n",
       "    </tr>\n",
       "    <tr>\n",
       "      <th>41</th>\n",
       "      <td>Barack Obama</td>\n",
       "      <td>https://millercenter.org/the-presidency/presid...</td>\n",
       "      <td>Your Majesties, Your Royal Highnesses, distin...</td>\n",
       "      <td>December 10, 2009: Acceptance of Nobel Peace P...</td>\n",
       "    </tr>\n",
       "    <tr>\n",
       "      <th>42</th>\n",
       "      <td>Barack Obama</td>\n",
       "      <td>https://millercenter.org/the-presidency/presid...</td>\n",
       "      <td>Good evening. To the United States Corps of C...</td>\n",
       "      <td>December 1, 2009: Speech on Strategy in Afghan...</td>\n",
       "    </tr>\n",
       "    <tr>\n",
       "      <th>43</th>\n",
       "      <td>Barack Obama</td>\n",
       "      <td>https://millercenter.org/the-presidency/presid...</td>\n",
       "      <td>Madam Speaker, Vice President Biden, Members ...</td>\n",
       "      <td>September 9, 2009: Address to Congress on Heal...</td>\n",
       "    </tr>\n",
       "    <tr>\n",
       "      <th>44</th>\n",
       "      <td>Barack Obama</td>\n",
       "      <td>https://millercenter.org/the-presidency/presid...</td>\n",
       "      <td>Thank you so much. Good afternoon. I am honor...</td>\n",
       "      <td>June 4, 2009: Address at Cairo University</td>\n",
       "    </tr>\n",
       "    <tr>\n",
       "      <th>45</th>\n",
       "      <td>Barack Obama</td>\n",
       "      <td>https://millercenter.org/the-presidency/presid...</td>\n",
       "      <td>Thank you. Well, I'm excited, too. (Laughter....</td>\n",
       "      <td>May 26, 2009: Remarks on Nominating Judge Soni...</td>\n",
       "    </tr>\n",
       "    <tr>\n",
       "      <th>46</th>\n",
       "      <td>Barack Obama</td>\n",
       "      <td>https://millercenter.org/the-presidency/presid...</td>\n",
       "      <td>Madam Speaker, Mr. Vice President, Members of...</td>\n",
       "      <td>February 24, 2009: Address Before a Joint Sess...</td>\n",
       "    </tr>\n",
       "    <tr>\n",
       "      <th>47</th>\n",
       "      <td>Barack Obama</td>\n",
       "      <td>https://millercenter.org/the-presidency/presid...</td>\n",
       "      <td>Thank you, everybody. Please have a seat. Yo...</td>\n",
       "      <td>February 7, 2009: Remarks on the American Reco...</td>\n",
       "    </tr>\n",
       "    <tr>\n",
       "      <th>48</th>\n",
       "      <td>Barack Obama</td>\n",
       "      <td>https://millercenter.org/the-presidency/presid...</td>\n",
       "      <td>It is fitting that with the very first bill I...</td>\n",
       "      <td>January 29, 2009: Remarks on the Lilly Ledbett...</td>\n",
       "    </tr>\n",
       "    <tr>\n",
       "      <th>49</th>\n",
       "      <td>Barack Obama</td>\n",
       "      <td>https://millercenter.org/the-presidency/presid...</td>\n",
       "      <td>I stand here today humbled by the task before...</td>\n",
       "      <td>January 20, 2009: Inaugural Address</td>\n",
       "    </tr>\n",
       "  </tbody>\n",
       "</table>\n",
       "</div>"
      ],
      "text/plain": [
       "       president                                             source  \\\n",
       "0   Donald Trump  https://millercenter.org/the-presidency/presid...   \n",
       "1   Donald Trump  https://millercenter.org/the-presidency/presid...   \n",
       "2   Barack Obama  https://millercenter.org/the-presidency/presid...   \n",
       "3   Barack Obama  https://millercenter.org/the-presidency/presid...   \n",
       "4   Barack Obama  https://millercenter.org/the-presidency/presid...   \n",
       "5   Barack Obama  https://millercenter.org/the-presidency/presid...   \n",
       "6   Barack Obama  https://millercenter.org/the-presidency/presid...   \n",
       "7   Barack Obama  https://millercenter.org/the-presidency/presid...   \n",
       "8   Barack Obama  https://millercenter.org/the-presidency/presid...   \n",
       "9   Barack Obama  https://millercenter.org/the-presidency/presid...   \n",
       "10  Barack Obama  https://millercenter.org/the-presidency/presid...   \n",
       "11  Barack Obama  https://millercenter.org/the-presidency/presid...   \n",
       "12  Barack Obama  https://millercenter.org/the-presidency/presid...   \n",
       "13  Barack Obama  https://millercenter.org/the-presidency/presid...   \n",
       "14  Barack Obama  https://millercenter.org/the-presidency/presid...   \n",
       "15  Barack Obama  https://millercenter.org/the-presidency/presid...   \n",
       "16  Barack Obama  https://millercenter.org/the-presidency/presid...   \n",
       "17  Barack Obama  https://millercenter.org/the-presidency/presid...   \n",
       "18  Barack Obama  https://millercenter.org/the-presidency/presid...   \n",
       "19  Barack Obama  https://millercenter.org/the-presidency/presid...   \n",
       "20  Barack Obama  https://millercenter.org/the-presidency/presid...   \n",
       "21  Barack Obama  https://millercenter.org/the-presidency/presid...   \n",
       "22  Barack Obama  https://millercenter.org/the-presidency/presid...   \n",
       "23  Barack Obama  https://millercenter.org/the-presidency/presid...   \n",
       "24  Barack Obama  https://millercenter.org/the-presidency/presid...   \n",
       "25  Barack Obama  https://millercenter.org/the-presidency/presid...   \n",
       "26  Barack Obama  https://millercenter.org/the-presidency/presid...   \n",
       "27  Barack Obama  https://millercenter.org/the-presidency/presid...   \n",
       "28  Barack Obama  https://millercenter.org/the-presidency/presid...   \n",
       "29  Barack Obama  https://millercenter.org/the-presidency/presid...   \n",
       "30  Barack Obama  https://millercenter.org/the-presidency/presid...   \n",
       "31  Barack Obama  https://millercenter.org/the-presidency/presid...   \n",
       "32  Barack Obama  https://millercenter.org/the-presidency/presid...   \n",
       "33  Barack Obama  https://millercenter.org/the-presidency/presid...   \n",
       "34  Barack Obama  https://millercenter.org/the-presidency/presid...   \n",
       "35  Barack Obama  https://millercenter.org/the-presidency/presid...   \n",
       "36  Barack Obama  https://millercenter.org/the-presidency/presid...   \n",
       "37  Barack Obama  https://millercenter.org/the-presidency/presid...   \n",
       "38  Barack Obama  https://millercenter.org/the-presidency/presid...   \n",
       "39  Barack Obama  https://millercenter.org/the-presidency/presid...   \n",
       "40  Barack Obama  https://millercenter.org/the-presidency/presid...   \n",
       "41  Barack Obama  https://millercenter.org/the-presidency/presid...   \n",
       "42  Barack Obama  https://millercenter.org/the-presidency/presid...   \n",
       "43  Barack Obama  https://millercenter.org/the-presidency/presid...   \n",
       "44  Barack Obama  https://millercenter.org/the-presidency/presid...   \n",
       "45  Barack Obama  https://millercenter.org/the-presidency/presid...   \n",
       "46  Barack Obama  https://millercenter.org/the-presidency/presid...   \n",
       "47  Barack Obama  https://millercenter.org/the-presidency/presid...   \n",
       "48  Barack Obama  https://millercenter.org/the-presidency/presid...   \n",
       "49  Barack Obama  https://millercenter.org/the-presidency/presid...   \n",
       "\n",
       "                                                 text  \\\n",
       "0    Mr. Speaker, Mr. Vice President, Members of C...   \n",
       "1    Chief Justice Roberts, President Carter, Pres...   \n",
       "2    Hello Rutgers! R-U rah-rah! Thank you so much...   \n",
       "3    Thank you. Muchas gracias. Thank you so much....   \n",
       "4    Mr. Speaker, Mr. Vice President, Members of C...   \n",
       "5    THE PRESIDENT: Giving all praise and honor to...   \n",
       "6    UDIENCE MEMBER: We love you, President Obama!...   \n",
       "7    Mr. Speaker, Mr. Vice President, Members of C...   \n",
       "8    My fellow Americans, tonight, I’d like to tal...   \n",
       "9    Mr. Speaker, Mr. Vice President, Members of C...   \n",
       "10    Thank you. Thank you, everybody. Thank you s...   \n",
       "11   My fellow Americans, tonight I want to talk t...   \n",
       "12   Hello, Warrensburg! Hello, Mules! Hello, Jenn...   \n",
       "13   I wanted to come out here, first of all, to t...   \n",
       "14   Hello, Connecticut. Thank you. Well, thank yo...   \n",
       "15   Thank you. Thank you so much. Well, it is a g...   \n",
       "16   Good morning, everybody. As you know, I just ...   \n",
       "17    Mr. Speaker, Mr. Vice President, members of ...   \n",
       "18   Thank you! Thank you! Thank you so much. It i...   \n",
       "19    Vice President Biden, Mr. Chief Justice, mem...   \n",
       "20   Thank you. Thank you, Governor. To all the fa...   \n",
       "21   Tonight, more than 200 years after a former c...   \n",
       "22   THE PRESIDENT: Thank you. Thank you. Thank yo...   \n",
       "23   Mr. Speaker, Mr. Vice President, members of C...   \n",
       "24   Good afternoon, everybody. As a candidate for...   \n",
       "25   Mr. Speaker, Mr. Vice President, members of C...   \n",
       "26   Good evening. Nearly 10 years ago, America su...   \n",
       "27   Thank you very much. Thank you.   My Lord Cha...   \n",
       "28   Thank you. Thank you. Thank you very much. Th...   \n",
       "29   ood evening. Tonight, I can report to the Ame...   \n",
       "30   Mr. Speaker, Mr. Vice President, members of C...   \n",
       "31   Thank you. Thank you very much. Please, pleas...   \n",
       "32   THE PRESIDENT: Good afternoon, everybody. Las...   \n",
       "33   THE PRESIDENT: Mr. President, Mr. Secretary-G...   \n",
       "34   Good evening. Tonight, I’d like to talk to yo...   \n",
       "35   Good evening. As we speak, our nation faces a...   \n",
       "36   Thank you very much. Everybody, please have a...   \n",
       "37   Thank you, everybody. Thank you. Thank you so...   \n",
       "38   THE PRESIDENT: Hello, Ohio! It is good to be ...   \n",
       "39   THE PRESIDENT: Hello, everybody. I am glad to...   \n",
       "40   Madam Speaker, Vice President Biden, Members ...   \n",
       "41   Your Majesties, Your Royal Highnesses, distin...   \n",
       "42   Good evening. To the United States Corps of C...   \n",
       "43   Madam Speaker, Vice President Biden, Members ...   \n",
       "44   Thank you so much. Good afternoon. I am honor...   \n",
       "45   Thank you. Well, I'm excited, too. (Laughter....   \n",
       "46   Madam Speaker, Mr. Vice President, Members of...   \n",
       "47    Thank you, everybody. Please have a seat. Yo...   \n",
       "48   It is fitting that with the very first bill I...   \n",
       "49   I stand here today humbled by the task before...   \n",
       "\n",
       "                                                title  \n",
       "0   February 28, 2017: Address to Joint Session of...  \n",
       "1                 January 20, 2017: Inaugural Address  \n",
       "2   May 15, 2016: Commencement Address at Rutgers ...  \n",
       "3       March 22, 2016: Remarks to the People of Cuba  \n",
       "4   January 12, 2016: 2016 State of the Union Address  \n",
       "5   June 26, 2015: Remarks in Eulogy for the Honor...  \n",
       "6   March 7, 2015: Remarks at the 50th Anniversary...  \n",
       "7   January 20, 2015: 2015 State of the Union Address  \n",
       "8   November 20, 2014: Address to the Nation on Im...  \n",
       "9   January 28, 2014: 2014 State of the Union Address  \n",
       "10      December 4, 2013: Speech on Economic Mobility  \n",
       "11  September 10, 2013: Address to the Nation on S...  \n",
       "12  July 24, 2013: Remarks on Education and the Ec...  \n",
       "13           July 19, 2013: Remarks on Trayvon Martin  \n",
       "14              April 8, 2013: Speech on Gun Violence  \n",
       "15    March 21, 2013: Address to the People of Israel  \n",
       "16  March 1, 2013: Statement on the Government Seq...  \n",
       "17  February 13, 2013: 2013 State of the Union Add...  \n",
       "18    January 29, 2013: Remarks on Immigration Reform  \n",
       "19         January 21, 2013: Second Inaugural Address  \n",
       "20  December 16, 2012: Remarks on Sandy Hook Eleme...  \n",
       "21  November 6, 2012: 2012 Election Night Victory ...  \n",
       "22  September 6, 2012: Nominee Acceptance Speech a...  \n",
       "23  January 24, 2012: 2012 State of the Union Address  \n",
       "24  October 21, 2011: Remarks on the End of the Wa...  \n",
       "25  September 8, 2011: Address to Congress on the ...  \n",
       "26  June 22, 2011: Remarks on the Afghanistan Pullout  \n",
       "27    May 25, 2011: Address to the British Parliament  \n",
       "28  May 19, 2011: Speech on American Diplomacy in ...  \n",
       "29  May 1, 2011: Remarks on the Death of Osama Bin...  \n",
       "30  January 25, 2011: 2011 State of the Union Address  \n",
       "31  January 12, 2011: Remarks at Memorial for Vict...  \n",
       "32  November 3, 2010: Press Conference After 2010 ...  \n",
       "33  September 23, 2010: Address to the United Nations  \n",
       "34  August 31, 2010: Address on the End of the Com...  \n",
       "35          June 15, 2010: Speech on the BP Oil Spill  \n",
       "36      April 28, 2010: Remarks on Wall Street Reform  \n",
       "37  April 15, 2010: Remarks on Space Exploration i...  \n",
       "38       March 15, 2010: Speech on Health Care Reform  \n",
       "39  February 9, 2010: News Conference on Congressi...  \n",
       "40  January 27, 2010: 2010 State of the Union Address  \n",
       "41  December 10, 2009: Acceptance of Nobel Peace P...  \n",
       "42  December 1, 2009: Speech on Strategy in Afghan...  \n",
       "43  September 9, 2009: Address to Congress on Heal...  \n",
       "44          June 4, 2009: Address at Cairo University  \n",
       "45  May 26, 2009: Remarks on Nominating Judge Soni...  \n",
       "46  February 24, 2009: Address Before a Joint Sess...  \n",
       "47  February 7, 2009: Remarks on the American Reco...  \n",
       "48  January 29, 2009: Remarks on the Lilly Ledbett...  \n",
       "49                January 20, 2009: Inaugural Address  "
      ]
     },
     "execution_count": 217,
     "metadata": {},
     "output_type": "execute_result"
    }
   ],
   "source": [
    "getTextFromMillerCenter('https://millercenter.org/', speech_urls[:50])"
   ]
  },
  {
   "cell_type": "markdown",
   "metadata": {},
   "source": [
    "## <span style=\"color:blue\">Notes on Section 2</span>\n",
    "<span style=\"color:blue\">\n",
    "The first part of the code creates a list of url paths to US presidents' speeches on the Miller Center's website. The code uses ajax to go through the page containing all the links to all the presidential speeches from the present to the past and collects the links ('href' tags) to each of them. Then, the function getTextFromMillerCenter is specific to scraping text from each of these page links. Given the base url and a list of specific url paths (previously created), the function crawls through each of the webpages and filters out and records the president's name, the source (full url), text of the speech (cleaned through regex and replacements), and title of the speech (date and occasion).</span>"
   ]
  },
  {
   "cell_type": "markdown",
   "metadata": {},
   "source": [
    "## API (Tumblr)\n",
    "\n",
    "Generally website owners do not like you scraping their sites. If done badly,\n",
    "scarping can act like a DOS attack so you should be careful how often you make\n",
    "calls to a site. Some sites want automated tools to access their data, so they\n",
    "create [application programming interface\n",
    "(APIs)](https://en.wikipedia.org/wiki/Application_programming_interface). An API\n",
    "specifies a procedure for an application (or script) to access their data. Often\n",
    "this is though a [representational state transfer\n",
    "(REST)](https://en.wikipedia.org/wiki/Representational_state_transfer) web\n",
    "service, which just means if you make correctly formatted HTTP requests they\n",
    "will return nicely formatted data.\n",
    "\n",
    "A nice example for us to study is [Tumblr](https://www.tumblr.com), they have a\n",
    "[simple RESTful API](https://www.tumblr.com/docs/en/api/v1) that allows you to\n",
    "read posts without any complicated html parsing.\n",
    "\n",
    "We can get the first 20 posts from a blog by making an http GET request to\n",
    "`'http://{blog}.tumblr.com/api/read/json'`, were `{blog}` is the name of the\n",
    "target blog. Lets try and get the posts from [http://lolcats-lol-\n",
    "cat.tumblr.com/](http://lolcats-lol-cat.tumblr.com/) (Note the blog says at the\n",
    "top 'One hour one pic lolcats', but the canonical name that Tumblr uses is in\n",
    "the URL 'lolcats-lol-cat')."
   ]
  },
  {
   "cell_type": "code",
   "execution_count": 46,
   "metadata": {
    "collapsed": false
   },
   "outputs": [
    {
     "name": "stdout",
     "output_type": "stream",
     "text": [
      "var tumblr_api_read = {\"tumblelog\":{\"title\":\"One hour one pic lolcats\",\"description\":\"\",\"name\":\"lolcats-lol-cat\",\"timezone\":\"Europe\\/Paris\",\"cname\":false,\"feeds\":[]},\"posts-start\":0,\"posts-total\":2964,\"posts-type\":false,\"posts\":[{\"id\":\"169306612050\",\"url\":\"http:\\/\\/lolcats-lol-cat.tumblr.com\\/post\\/169306612050\",\"url-with-slug\":\"http:\\/\\/lolcats-lol-cat.tumblr.com\\/post\\/169306612050\\/kitty-mind-blown\",\"type\":\"photo\",\"date-gmt\":\"2018-01-04 15:00:13 GMT\",\"date\":\"Thu, 04 Jan 2018 16:00:13\",\"bookmarklet\":0,\"mobile\":0,\"feed-item\":\"\",\"from-feed-id\":0,\"unix-timestamp\":1515078013,\"format\":\"html\",\"reblog-key\":\"TZzKhxon\",\"slug\":\"kitty-mind-blown\",\"is-submission\":false,\"like-button\":\"<div class=\\\"like_button\\\" data-post-id=\\\"169306612050\\\" data-blog-name=\\\"lolcats-lol-cat\\\" id=\\\"like_button_169306612050\\\"><iframe id=\\\"like_iframe_169306612050\\\" src=\\\"http:\\/\\/assets.tumblr.com\\/assets\\/html\\/like_iframe.html?_v=fc298e85f978b8662a643fe0a6b8c638#name=lolcats-lol-cat&amp;post_id=169306612050&amp;co\n"
     ]
    }
   ],
   "source": [
    "tumblrAPItarget = 'http://{}.tumblr.com/api/read/json'\n",
    "\n",
    "r = requests.get(tumblrAPItarget.format('lolcats-lol-cat'))\n",
    "\n",
    "print(r.text[:1000])"
   ]
  },
  {
   "cell_type": "markdown",
   "metadata": {},
   "source": [
    "This might not look very good on first inspection, but it has far fewer angle\n",
    "braces than html, which makes it easier to parse. What we have is\n",
    "[JSON](https://en.wikipedia.org/wiki/JSON) a 'human readable' text based data\n",
    "transmission format based on javascript. Luckily, we can readily convert it to a\n",
    "python `dict`."
   ]
  },
  {
   "cell_type": "code",
   "execution_count": 47,
   "metadata": {
    "collapsed": false
   },
   "outputs": [
    {
     "name": "stdout",
     "output_type": "stream",
     "text": [
      "dict_keys(['tumblelog', 'posts-start', 'posts-total', 'posts-type', 'posts'])\n",
      "20\n"
     ]
    }
   ],
   "source": [
    "#We need to load only the stuff between the curly braces\n",
    "d = json.loads(r.text[len('var tumblr_api_read = '):-2])\n",
    "print(d.keys())\n",
    "print(len(d['posts']))"
   ]
  },
  {
   "cell_type": "markdown",
   "metadata": {},
   "source": [
    "If we read the [API specification](https://www.tumblr.com/docs/en/api/v1), we\n",
    "will see there are a lot of things we can get if we add things to our GET\n",
    "request. First we can retrieve posts by their id number. Let's first get post\n",
    "`146020177084`."
   ]
  },
  {
   "cell_type": "code",
   "execution_count": null,
   "metadata": {
    "collapsed": true
   },
   "outputs": [],
   "source": [
    "r = requests.get(tumblrAPItarget.format('lolcats-lol-cat'), params = {'id' : 146020177084})\n",
    "d = json.loads(r.text[len('var tumblr_api_read = '):-2])\n",
    "d['posts'][0].keys()\n",
    "d['posts'][0]['photo-url-1280']\n",
    "\n",
    "with open('lolcat.gif', 'wb') as f:\n",
    "    gifRequest = requests.get(d['posts'][0]['photo-url-1280'], stream = True)\n",
    "    f.write(gifRequest.content)"
   ]
  },
  {
   "cell_type": "markdown",
   "metadata": {},
   "source": [
    "<img src='lolcat.gif'>\n",
    "\n",
    "Such beauty; such vigor (If you can't see it you have to refresh the page). Now\n",
    "we could retrieve the text from all posts as well\n",
    "as related metadata, like the post date, caption or tags. We could also get\n",
    "links to all the images."
   ]
  },
  {
   "cell_type": "code",
   "execution_count": 43,
   "metadata": {
    "collapsed": false
   },
   "outputs": [],
   "source": [
    "#Putting a max in case the blog has millions of images\n",
    "#The given max will be rounded up to the nearest multiple of 50\n",
    "def tumblrImageScrape(blogName, maxImages = 200):\n",
    "    #Restating this here so the function isn't dependent on any external variables\n",
    "    tumblrAPItarget = 'http://{}.tumblr.com/api/read/json'\n",
    "\n",
    "    #There are a bunch of possible locations for the photo url\n",
    "    possiblePhotoSuffixes = [1280, 500, 400, 250, 100]\n",
    "\n",
    "    #These are the pieces of information we will be gathering,\n",
    "    #at the end we will convert this to a DataFrame.\n",
    "    #There are a few other datums we could gather like the captions\n",
    "    #you can read the Tumblr documentation to learn how to get them\n",
    "    #https://www.tumblr.com/docs/en/api/v1\n",
    "    postsData = {\n",
    "        'id' : [],\n",
    "        'photo-url' : [],\n",
    "        'date' : [],\n",
    "        'tags' : [],\n",
    "        'photo-type' : []\n",
    "    }\n",
    "\n",
    "    #Tumblr limits us to a max of 50 posts per request\n",
    "    for requestNum in range(maxImages // 50):\n",
    "        requestParams = {\n",
    "            'start' : requestNum * 50,\n",
    "            'num' : 50,\n",
    "            'type' : 'photo'\n",
    "        }\n",
    "        r = requests.get(tumblrAPItarget.format(blogName), params = requestParams)\n",
    "        requestDict = json.loads(r.text[len('var tumblr_api_read = '):-2])\n",
    "        for postDict in requestDict['posts']:\n",
    "            #We are dealing with uncleaned data, we can't trust it.\n",
    "            #Specifically, not all posts are guaranteed to have the fields we want\n",
    "            try:\n",
    "                postsData['id'].append(postDict['id'])\n",
    "                postsData['date'].append(postDict['date'])\n",
    "                postsData['tags'].append(postDict['tags'])\n",
    "            except KeyError as e:\n",
    "                raise KeyError(\"Post {} from {} is missing: {}\".format(postDict['id'], blogName, e))\n",
    "\n",
    "            foundSuffix = False\n",
    "            for suffix in possiblePhotoSuffixes:\n",
    "                try:\n",
    "                    photoURL = postDict['photo-url-{}'.format(suffix)]\n",
    "                    postsData['photo-url'].append(photoURL)\n",
    "                    postsData['photo-type'].append(photoURL.split('.')[-1])\n",
    "                    foundSuffix = True\n",
    "                    break\n",
    "                except KeyError:\n",
    "                    pass\n",
    "            if not foundSuffix:\n",
    "                #Make sure your error messages are useful\n",
    "                #You will be one of the users\n",
    "                raise KeyError(\"Post {} from {} is missing a photo url\".format(postDict['id'], blogName))\n",
    "\n",
    "    return pandas.DataFrame(postsData)\n"
   ]
  },
  {
   "cell_type": "code",
   "execution_count": 44,
   "metadata": {
    "collapsed": false
   },
   "outputs": [
    {
     "data": {
      "text/html": [
       "<div>\n",
       "<table border=\"1\" class=\"dataframe\">\n",
       "  <thead>\n",
       "    <tr style=\"text-align: right;\">\n",
       "      <th></th>\n",
       "      <th>date</th>\n",
       "      <th>id</th>\n",
       "      <th>photo-type</th>\n",
       "      <th>photo-url</th>\n",
       "      <th>tags</th>\n",
       "    </tr>\n",
       "  </thead>\n",
       "  <tbody>\n",
       "    <tr>\n",
       "      <th>0</th>\n",
       "      <td>Thu, 04 Jan 2018 16:00:13</td>\n",
       "      <td>169306612050</td>\n",
       "      <td>jpg</td>\n",
       "      <td>http://78.media.tumblr.com/704a681944a94a1fac1...</td>\n",
       "      <td>[cat, cats, lol, lolcat, lolcats]</td>\n",
       "    </tr>\n",
       "    <tr>\n",
       "      <th>1</th>\n",
       "      <td>Thu, 04 Jan 2018 14:00:41</td>\n",
       "      <td>169303827051</td>\n",
       "      <td>png</td>\n",
       "      <td>http://78.media.tumblr.com/1ec2cc33b059d657351...</td>\n",
       "      <td>[cat, cats, lol, lolcat, lolcats]</td>\n",
       "    </tr>\n",
       "    <tr>\n",
       "      <th>2</th>\n",
       "      <td>Thu, 04 Jan 2018 12:00:34</td>\n",
       "      <td>169301536211</td>\n",
       "      <td>png</td>\n",
       "      <td>http://78.media.tumblr.com/80dc7c42c35a2dbce58...</td>\n",
       "      <td>[cat, cats, lol, lolcat, lolcats]</td>\n",
       "    </tr>\n",
       "    <tr>\n",
       "      <th>3</th>\n",
       "      <td>Tue, 02 Jan 2018 04:00:09</td>\n",
       "      <td>169209300706</td>\n",
       "      <td>jpg</td>\n",
       "      <td>http://78.media.tumblr.com/94b8dbe91683bd01551...</td>\n",
       "      <td>[cat, cats, lol, lolcat, lolcats]</td>\n",
       "    </tr>\n",
       "    <tr>\n",
       "      <th>4</th>\n",
       "      <td>Tue, 02 Jan 2018 02:00:42</td>\n",
       "      <td>169205268941</td>\n",
       "      <td>jpg</td>\n",
       "      <td>http://78.media.tumblr.com/e3bbb26992ac10e0234...</td>\n",
       "      <td>[cat, cats, lol, lolcat, lolcats]</td>\n",
       "    </tr>\n",
       "  </tbody>\n",
       "</table>\n",
       "</div>"
      ],
      "text/plain": [
       "                        date            id photo-type  \\\n",
       "0  Thu, 04 Jan 2018 16:00:13  169306612050        jpg   \n",
       "1  Thu, 04 Jan 2018 14:00:41  169303827051        png   \n",
       "2  Thu, 04 Jan 2018 12:00:34  169301536211        png   \n",
       "3  Tue, 02 Jan 2018 04:00:09  169209300706        jpg   \n",
       "4  Tue, 02 Jan 2018 02:00:42  169205268941        jpg   \n",
       "\n",
       "                                           photo-url  \\\n",
       "0  http://78.media.tumblr.com/704a681944a94a1fac1...   \n",
       "1  http://78.media.tumblr.com/1ec2cc33b059d657351...   \n",
       "2  http://78.media.tumblr.com/80dc7c42c35a2dbce58...   \n",
       "3  http://78.media.tumblr.com/94b8dbe91683bd01551...   \n",
       "4  http://78.media.tumblr.com/e3bbb26992ac10e0234...   \n",
       "\n",
       "                                tags  \n",
       "0  [cat, cats, lol, lolcat, lolcats]  \n",
       "1  [cat, cats, lol, lolcat, lolcats]  \n",
       "2  [cat, cats, lol, lolcat, lolcats]  \n",
       "3  [cat, cats, lol, lolcat, lolcats]  \n",
       "4  [cat, cats, lol, lolcat, lolcats]  "
      ]
     },
     "execution_count": 44,
     "metadata": {},
     "output_type": "execute_result"
    }
   ],
   "source": [
    "lolcat = tumblrImageScrape('lolcats-lol-cat', 50)\n",
    "lolcat.head()"
   ]
  },
  {
   "cell_type": "markdown",
   "metadata": {},
   "source": [
    "Now we have the urls of a bunch of images and can run OCR on them to gather\n",
    "compelling meme narratives, accompanied by cats.\n",
    "\n",
    "# Files\n",
    "\n",
    "What if the text we want isn't on a webpage? There are a many other sources of\n",
    "text available, typically organized into *files*.\n",
    "\n",
    "## Raw text (and encoding)\n",
    "\n",
    "The most basic form of storing text is as a _raw text_ document. Source code\n",
    "(`.py`, `.r`, etc) is usually raw text as are text files (`.txt`) and those with\n",
    "many other extension (e.g., .csv, .dat, etc.). Opening an unknown file with a\n",
    "text editor is often a great way of learning what the file is.\n",
    "\n",
    "We can create a text file in python with the `open()` function"
   ]
  },
  {
   "cell_type": "code",
   "execution_count": 51,
   "metadata": {
    "collapsed": true
   },
   "outputs": [],
   "source": [
    "#example_text_file = 'sometextfile.txt'\n",
    "#stringToWrite = 'A line\\nAnother line\\nA line with a few unusual symbols \\u2421 \\u241B \\u20A0 \\u20A1 \\u20A2 \\u20A3 \\u0D60\\n'\n",
    "stringToWrite = 'A line\\nAnother line\\nA line with a few unusual symbols ␡ ␛ ₠ ₡ ₢ ₣ ൠ\\n'\n",
    "\n",
    "with open(example_text_file, mode = 'w', encoding='utf-8') as f:\n",
    "    f.write(stringToWrite)"
   ]
  },
  {
   "cell_type": "markdown",
   "metadata": {},
   "source": [
    "Notice the `encoding='utf-8'` argument, which specifies how we map the bits from\n",
    "the file to the glyphs (and whitespace characters like tab (`'\\t'`) or newline\n",
    "(`'\\n'`)) on the screen. When dealing only with latin letters, arabic numerals\n",
    "and the other symbols on America keyboards you usually do not have to worry\n",
    "about encodings as the ones used today are backwards compatible with\n",
    "[ASCII](https://en.wikipedia.org/wiki/ASCII), which gives the binary\n",
    "representation of 128 characters.\n",
    "\n",
    "Some of you, however, will want to use other characters (e.g., Chinese\n",
    "characters). To solve this there is\n",
    "[Unicode](https://en.wikipedia.org/wiki/Unicode) which assigns numbers to\n",
    "symbols, e.g., 041 is `'A'` and 03A3 is `'Σ'` (numbers starting with 0 are\n",
    "hexadecimal). Often non/beyond-ASCII characters are called Unicode characters.\n",
    "Unicode contains 1,114,112 characters, about 10\\% of which have been assigned.\n",
    "Unfortunately there are many ways used to map combinations of bits to Unicode\n",
    "symbols. The ones you are likely to encounter are called by Python _utf-8_,\n",
    "_utf-16_ and _latin-1_. _utf-8_ is the standard for Linux and Mac OS while both\n",
    "_utf-16_ and _latin-1_ are used by windows. If you use the wrong encoding,\n",
    "characters can appear wrong, sometimes change in number or Python could raise an\n",
    "exception. Lets see what happens when we open the file we just created with\n",
    "different encodings."
   ]
  },
  {
   "cell_type": "code",
   "execution_count": 52,
   "metadata": {
    "collapsed": false
   },
   "outputs": [
    {
     "name": "stdout",
     "output_type": "stream",
     "text": [
      "This is with the correct encoding:\n",
      "A line\n",
      "Another line\n",
      "A line with a few unusual symbols ␡ ␛ ₠ ₡ ₢ ₣ ൠ\n",
      "\n",
      "This is with the wrong encoding:\n",
      "A line\n",
      "Another line\n",
      "A line with a few unusual symbols â¡ â â  â¡ â¢ â£ àµ \n",
      "\n"
     ]
    }
   ],
   "source": [
    "with open(example_text_file, encoding='utf-8') as f:\n",
    "    print(\"This is with the correct encoding:\")\n",
    "    print(f.read())\n",
    "\n",
    "with open(example_text_file, encoding='latin-1') as f:\n",
    "    print(\"This is with the wrong encoding:\")\n",
    "    print(f.read())"
   ]
  },
  {
   "cell_type": "markdown",
   "metadata": {},
   "source": [
    "Notice that with _latin-1_ the unicode characters are mixed up and there are too\n",
    "many of them. You need to keep in mind encoding when obtaining text files.\n",
    "Determining the encoding can sometime involve substantial work."
   ]
  },
  {
   "cell_type": "markdown",
   "metadata": {},
   "source": [
    "We can also load many text files at once. LEts tart by looking at the Shakespeare files in the `data` directory "
   ]
  },
  {
   "cell_type": "code",
   "execution_count": 53,
   "metadata": {
    "collapsed": false
   },
   "outputs": [
    {
     "name": "stdout",
     "output_type": "stream",
     "text": [
      ", and Train.]\n",
      "\n",
      "PUCK\n",
      "  If we shadows have offended,\n",
      "  Think but this,--and all is mended,--\n",
      "  That you have but slumber'd here\n",
      "  While these visions did appear.\n",
      "  And this weak and idle theme,\n",
      "  No more yielding but a dream,\n",
      "  Gentles, do not reprehend;\n",
      "  If you pardon, we will mend.\n",
      "  And, as I am an honest Puck,\n",
      "  If we have unearned luck\n",
      "  Now to 'scape the serpent's tongue,\n",
      "  We will make amends ere long;\n",
      "  Else the Puck a liar call:\n",
      "  So, good night unto you all.\n",
      "  Give me your hands, if we be friends,\n",
      "  And Robin shall restore amends.\n",
      "\n",
      "[Exit.]\n",
      "\n",
      "\n",
      "\n",
      "\n",
      "\n",
      "End of Project Gutenberg Etext of A Midsummer Night's Dream by Shakespeare\n",
      "PG has multiple editions of William Shakespeare's Complete Works\n",
      "\n"
     ]
    }
   ],
   "source": [
    "with open('../data/Shakespeare/midsummer_nights_dream.txt') as f:\n",
    "    midsummer = f.read()\n",
    "print(midsummer[-700:])"
   ]
  },
  {
   "cell_type": "markdown",
   "metadata": {},
   "source": [
    "Then to load all the files in `../data/Shakespeare` we can use a for loop with `scandir`:"
   ]
  },
  {
   "cell_type": "code",
   "execution_count": 56,
   "metadata": {
    "collapsed": false
   },
   "outputs": [],
   "source": [
    "targetDir = 'C:/Users/Sun-joo Lee/Git_Projects/content-analysis-2018/data/Shakespeare' #Change this to your own directory of texts\n",
    "shakespearText = []\n",
    "shakespearFileName = []\n",
    "\n",
    "for file in (file for file in os.scandir(targetDir) if file.is_file() and not file.name.startswith('.')):\n",
    "    with open(file.path, 'rt', encoding='UTF8') as f:\n",
    "        shakespearText.append(f.read())\n",
    "    shakespearFileName.append(file.name)\n"
   ]
  },
  {
   "cell_type": "markdown",
   "metadata": {},
   "source": [
    "Then we can put them all in pandas DataFrame"
   ]
  },
  {
   "cell_type": "code",
   "execution_count": 58,
   "metadata": {
    "collapsed": false
   },
   "outputs": [
    {
     "data": {
      "text/html": [
       "<div>\n",
       "<table border=\"1\" class=\"dataframe\">\n",
       "  <thead>\n",
       "    <tr style=\"text-align: right;\">\n",
       "      <th></th>\n",
       "      <th>text</th>\n",
       "    </tr>\n",
       "  </thead>\n",
       "  <tbody>\n",
       "    <tr>\n",
       "      <th>alls_well_that_ends_well.txt</th>\n",
       "      <td>All's Well, that Ends Well\\n\\nActus primus. Sc...</td>\n",
       "    </tr>\n",
       "    <tr>\n",
       "      <th>anthonie_and_cleopatra.txt</th>\n",
       "      <td>The Tragedie of Anthonie, and Cleopatra\\n\\nAct...</td>\n",
       "    </tr>\n",
       "    <tr>\n",
       "      <th>as_you_like_it.txt</th>\n",
       "      <td>AS YOU LIKE IT\\n\\nby William Shakespeare\\n\\n\\n...</td>\n",
       "    </tr>\n",
       "    <tr>\n",
       "      <th>comedy_of_errors.txt</th>\n",
       "      <td>DRAMATIS PERSONAE\\n\\nSOLINUS, Duke of Ephesus\\...</td>\n",
       "    </tr>\n",
       "    <tr>\n",
       "      <th>coriolanus.txt</th>\n",
       "      <td>THE TRAGEDY OF CORIOLANUS\\n\\nby William Shakes...</td>\n",
       "    </tr>\n",
       "  </tbody>\n",
       "</table>\n",
       "</div>"
      ],
      "text/plain": [
       "                                                                           text\n",
       "alls_well_that_ends_well.txt  All's Well, that Ends Well\\n\\nActus primus. Sc...\n",
       "anthonie_and_cleopatra.txt    The Tragedie of Anthonie, and Cleopatra\\n\\nAct...\n",
       "as_you_like_it.txt            AS YOU LIKE IT\\n\\nby William Shakespeare\\n\\n\\n...\n",
       "comedy_of_errors.txt          DRAMATIS PERSONAE\\n\\nSOLINUS, Duke of Ephesus\\...\n",
       "coriolanus.txt                THE TRAGEDY OF CORIOLANUS\\n\\nby William Shakes..."
      ]
     },
     "execution_count": 58,
     "metadata": {},
     "output_type": "execute_result"
    }
   ],
   "source": [
    "shakespear_df = pandas.DataFrame({'text' : shakespearText}, index = shakespearFileName)\n",
    "shakespear_df.head()"
   ]
  },
  {
   "cell_type": "markdown",
   "metadata": {},
   "source": [
    "Getting your text in a format like this is the first step of most analysis"
   ]
  },
  {
   "cell_type": "markdown",
   "metadata": {},
   "source": [
    "## PDF\n",
    "\n",
    "Another common way text will be stored is in a PDF file. First we will download\n",
    "a pdf in Python. To do that lets grab a chapter from\n",
    "_Speech and Language Processing_, chapter 21 is on Information Extraction which\n",
    "seems apt. It is stored as a pdf at [https://web.stanford.edu/~jurafsky/slp3/21.\n",
    "pdf](https://web.stanford.edu/~jurafsky/slp3/21.pdf) although we are downloading\n",
    "from a copy just in case Jurafsky changes their website."
   ]
  },
  {
   "cell_type": "code",
   "execution_count": 59,
   "metadata": {
    "collapsed": false
   },
   "outputs": [
    {
     "name": "stdout",
     "output_type": "stream",
     "text": [
      "%PDF-1.3\n",
      "%���������\n",
      "4 0 obj\n",
      "<< /Length 5 0 R /Filter /FlateDecode >>\n",
      "stream\n",
      "x\u0001�]۶�F�}�W�c����T���\u0017C\u000f�i�\u0019<t\u001f�b\u0001\u000fM�f\n",
      "Tn�\u0006<3_�\u000b",
      "�CDf�\u001d",
      "�J�N�i�\u000f�#�%.;.\u0019���\t?\u000f߄��7�]8������ux��}\u001b޾\u000fm����y��bǾ���\u0010�!\u001c",
      "\u000e���$�Ǯ���C�\u0007�F\u0006�����p�\u000f��5��1��1�P<�{�\u0010$�\u001a�/$�P�\f",
      "s�v��P\u001e",
      "gH?�����Q�~�*�:l��ˇ�m�ǰ��C�l����܊\u0017��E��\u001e",
      "���\u000f!�^�y��\u001am�$�Ý���wۡل׼�6w���ī�K�~؞���r��\u0010~\u001b\u001e",
      "?�ˡkO�;6IH�9{ԡ���\u0000]?�E�E�\u0012�~���.l������+��\u001c",
      "W�\u000e\u0002_�\u000e��\u0002\u0002��C��S�|�~\u0005C��N�3ӛB`8�ޚ\b\u0001j9���AZ�\u0004�\u00110�d�l^�\u000e�����SY\u0012\t�Ƨ��>\u000b",
      "q�ۇ&\n",
      "����.�����0���\u0015�;\u0000��>a8�$\f",
      "w�p��p����ST���\u000b",
      ".\u0000�7��@�\u0012���)�\u0013�&1�|���\u0002\u0004WՃ jOv�G2b�L8I��N�@\u0001\u001e",
      "gǍ�\u0004����\u0019�O�C��������IN@@���\u0002��\u0013}�8��+L����a�\u0005&ү\b�o\u0005\u0013�V(\u0019���0\f",
      "���+5\u001b�\n",
      "S\u001d",
      "fS&��<�2���\u001e",
      "��>l�V��&��=4⇤\u0019=\u001a�W��<�J\u0013Mo�\u001c",
      "���\"����d�C����[vY�|K\u001c",
      "{_ܔ\\��\u0017��%\u0001H�/@'�QA�+D�l��c��L�G�.��\t�̎�V�:f>���Aw\u0010K���o$`D\u0007��\u000b",
      "bE45�\u000b",
      "0\b�\u0015%th6h��\u0005���>*�2vQd\u0010\u0015�+M��Y}�Q���u�[���N�o'b\u0010��/u�.r'Z�\u0017��J�\u0019e8�v\u0013\u000b",
      "��;�\u001d",
      "�{T�\t\f",
      "�����^8�\u0014 \u001a\u0018 l<�E�<���b�����C8\f",
      "j��f��xB>\u0001K\u0010���\u0019��|\u001f\u0004w��f�|?�\u0001s̭\u0018��Y�'�Ip&�\"�\u000b",
      "A���f�?�\b!IYi���U�\"��y;�\u0007��#�\u000b",
      "\u000f�e3)�+B�&���\u001d",
      "�<\bE9I�g�/]\"D��yfC;e����Y^�z ��s'�)/�X�-HY��<ˬ�ݰ\n"
     ]
    }
   ],
   "source": [
    "#information_extraction_pdf = 'https://github.com/KnowledgeLab/content_analysis/raw/data/21.pdf'\n",
    "\n",
    "infoExtractionRequest = requests.get(information_extraction_pdf, stream=True)\n",
    "print(infoExtractionRequest.text[:1000])"
   ]
  },
  {
   "cell_type": "markdown",
   "metadata": {},
   "source": [
    "It says `'pdf'`, so thats a good sign. The rest though looks like we are having\n",
    "issues with an encoding. The random characters are not caused by our encoding\n",
    "being wrong, however. They are cause by there not being an encoding for those\n",
    "parts at all. PDFs are nominally binary files, meaning there are sections of\n",
    "binary that are specific to pdf and nothing else so you need something that\n",
    "knows about pdf to read them. To do that we will be using\n",
    "[`PyPDF2`](https://github.com/mstamy2/PyPDF2), a PDF processing library for\n",
    "Python 3.\n",
    "\n",
    "\n",
    "Because PDFs are a very complicated file format pdfminer requires a large amount\n",
    "of boilerplate code to extract text, we have written a function that takes in an\n",
    "open PDF file and returns the text so you don't have to."
   ]
  },
  {
   "cell_type": "code",
   "execution_count": 60,
   "metadata": {
    "collapsed": true
   },
   "outputs": [],
   "source": [
    "def readPDF(pdfFile):\n",
    "    #Based on code from http://stackoverflow.com/a/20905381/4955164\n",
    "    #Using utf-8, if there are a bunch of random symbols try changing this\n",
    "    codec = 'utf-8'\n",
    "    rsrcmgr = pdfminer.pdfinterp.PDFResourceManager()\n",
    "    retstr = io.StringIO()\n",
    "    layoutParams = pdfminer.layout.LAParams()\n",
    "    device = pdfminer.converter.TextConverter(rsrcmgr, retstr, laparams = layoutParams, codec = codec)\n",
    "    #We need a device and an interpreter\n",
    "    interpreter = pdfminer.pdfinterp.PDFPageInterpreter(rsrcmgr, device)\n",
    "    password = ''\n",
    "    maxpages = 0\n",
    "    caching = True\n",
    "    pagenos=set()\n",
    "    for page in pdfminer.pdfpage.PDFPage.get_pages(pdfFile, pagenos, maxpages=maxpages, password=password,caching=caching, check_extractable=True):\n",
    "        interpreter.process_page(page)\n",
    "    device.close()\n",
    "    returnedString = retstr.getvalue()\n",
    "    retstr.close()\n",
    "    return returnedString"
   ]
  },
  {
   "cell_type": "markdown",
   "metadata": {},
   "source": [
    "First we need to take the response object and convert it into a 'file like'\n",
    "object so that pdfminer can read it. To do this we will use `io`'s `BytesIO`."
   ]
  },
  {
   "cell_type": "code",
   "execution_count": 61,
   "metadata": {
    "collapsed": true
   },
   "outputs": [],
   "source": [
    "infoExtractionBytes = io.BytesIO(infoExtractionRequest.content)"
   ]
  },
  {
   "cell_type": "markdown",
   "metadata": {},
   "source": [
    "Now we can give it to pdfminer."
   ]
  },
  {
   "cell_type": "code",
   "execution_count": 62,
   "metadata": {
    "collapsed": false
   },
   "outputs": [
    {
     "name": "stdout",
     "output_type": "stream",
     "text": [
      "Department of  Sociology \n",
      "\n",
      "THE UNIVERSITY OF CHICAGO \n",
      "\n",
      "SOCIOLOGY 40133 \n",
      "\n",
      "Computational Content Analysis \n",
      "\n",
      "Friday 1:00 – 3:50pm \n",
      "Winter 2017-2018 \n",
      "Classroom: Harper Memorial 130       \n",
      "http://chalk.uchicago.edu/ \n",
      "\n",
      " \n",
      "\n",
      "                                                                                           \n",
      "\n",
      "          Office: McGiffert 210 \n",
      "                                                    Tel.: 834-3612; jevans@uchicago.edu \n",
      "                                  Office Hours: Thursday 12:30-2:30pm \n",
      "\n",
      "     \n",
      "\n",
      "        James A. Evans            \n",
      "\n",
      "    \n"
     ]
    }
   ],
   "source": [
    "print(readPDF(infoExtractionBytes)[:550])"
   ]
  },
  {
   "cell_type": "markdown",
   "metadata": {},
   "source": [
    "From here we can either look at the full text or fiddle with our PDF reader and\n",
    "get more information about individual blocks of text.\n",
    "\n",
    "## Word Docs\n",
    "\n",
    "The other type of document you are likely to encounter is the `.docx`, these are\n",
    "actually a version of [XML](https://en.wikipedia.org/wiki/Office_Open_XML), just\n",
    "like HTML, and like HTML we will use a specialized parser.\n",
    "\n",
    "For this class we will use [`python-docx`](https://python-\n",
    "docx.readthedocs.io/en/latest/) which provides a nice simple interface for\n",
    "reading `.docx` files"
   ]
  },
  {
   "cell_type": "code",
   "execution_count": 63,
   "metadata": {
    "collapsed": false
   },
   "outputs": [
    {
     "name": "stdout",
     "output_type": "stream",
     "text": [
      " \n",
      " \n",
      "\n",
      "Accessing the Research Computing Center Resources\n",
      "\n",
      "To connect to the midway compute cluster to access your home directory and the macs60000 storage space, and utilize the HPC resources, you will either use a terminal client (with or without X11 forwarding capabilities) or the Linux remote desktop server software client (Thinlinc) to connect to the midway cluster. To submit jobs, monitor jobs, browse directories or do other computing you will need to connect through either the terminal or remote desktop. Setup and utilization of these clients will be discussed below in the context of your local platform’s architecture.\n",
      "SSH Client Setup & Remote Desktop Server\n"
     ]
    }
   ],
   "source": [
    "#example_docx = 'https://github.com/KnowledgeLab/content_analysis/raw/data/example_doc.docx'\n",
    "\n",
    "r = requests.get(example_docx, stream=True)\n",
    "d = docx.Document(io.BytesIO(r.content))\n",
    "for paragraph in d.paragraphs[:7]:\n",
    "    print(paragraph.text)"
   ]
  },
  {
   "cell_type": "markdown",
   "metadata": {},
   "source": [
    "This procedure uses the `io.BytesIO` class again, since `docx.Document` expects\n",
    "a file. Another way to do it is to save the document to a file and then read it\n",
    "like any other file. If we do this we can either delete the file afterwords, or\n",
    "save it and avoid downloading the following time.\n",
    "\n",
    "This function is useful as a part of many different tasks so it and others like it will be added to the helper package `lucem_illud` so we can use it later without having to retype it."
   ]
  },
  {
   "cell_type": "code",
   "execution_count": 64,
   "metadata": {
    "collapsed": true
   },
   "outputs": [],
   "source": [
    "def downloadIfNeeded(targetURL, outputFile, **openkwargs):\n",
    "    if not os.path.isfile(outputFile):\n",
    "        outputDir = os.path.dirname(outputFile)\n",
    "        #This function is a more general os.mkdir()\n",
    "        if len(outputDir) > 0:\n",
    "            os.makedirs(outputDir, exist_ok = True)\n",
    "        r = requests.get(targetURL, stream=True)\n",
    "        #Using a closure like this is generally better than having to\n",
    "        #remember to close the file. There are ways to make this function\n",
    "        #work as a closure too\n",
    "        with open(outputFile, 'wb') as f:\n",
    "            f.write(r.content)\n",
    "    return open(outputFile, **openkwargs)"
   ]
  },
  {
   "cell_type": "markdown",
   "metadata": {},
   "source": [
    "This function will download, save and open `outputFile` as `outputFile` or just\n",
    "open it if `outputFile` exists. By default `open()` will open the file as read\n",
    "only text with the local encoding, which may cause issues if its not a text\n",
    "file."
   ]
  },
  {
   "cell_type": "code",
   "execution_count": 65,
   "metadata": {
    "collapsed": false
   },
   "outputs": [
    {
     "name": "stdout",
     "output_type": "stream",
     "text": [
      "File is not a zip file\n"
     ]
    }
   ],
   "source": [
    "try:\n",
    "    d = docx.Document(downloadIfNeeded(example_docx, example_docx_save))\n",
    "except Exception as e:\n",
    "    print(e)"
   ]
  },
  {
   "cell_type": "markdown",
   "metadata": {},
   "source": [
    "We need to tell `open()` to read in binary mode (`'rb'`), this is why we added\n",
    "`**openkwargs`, this allows us to pass any keyword arguments (kwargs) from\n",
    "`downloadIfNeeded` to `open()`."
   ]
  },
  {
   "cell_type": "code",
   "execution_count": 66,
   "metadata": {
    "collapsed": false
   },
   "outputs": [
    {
     "name": "stdout",
     "output_type": "stream",
     "text": [
      " \n",
      " \n",
      "\n",
      "Accessing the Research Computing Center Resources\n",
      "\n",
      "To connect to the midway compute cluster to access your home directory and the macs60000 storage space, and utilize the HPC resources, you will either use a terminal client (with or without X11 forwarding capabilities) or the Linux remote desktop server software client (Thinlinc) to connect to the midway cluster. To submit jobs, monitor jobs, browse directories or do other computing you will need to connect through either the terminal or remote desktop. Setup and utilization of these clients will be discussed below in the context of your local platform’s architecture.\n",
      "SSH Client Setup & Remote Desktop Server\n"
     ]
    }
   ],
   "source": [
    "d = docx.Document(downloadIfNeeded(example_docx, example_docx_save, mode = 'rb'))\n",
    "for paragraph in d.paragraphs[:7]:\n",
    "    print(paragraph.text)"
   ]
  },
  {
   "cell_type": "markdown",
   "metadata": {},
   "source": [
    "Now we can read the file with `docx.Document` and not have to wait for it to be\n",
    "downloaded every time."
   ]
  },
  {
   "cell_type": "markdown",
   "metadata": {},
   "source": [
    "\n",
    "# <span style=\"color:red\">Section 3</span>\n",
    "<span style=\"color:red\">Construct cells immediately below this that extract and organize textual content from text, PDF or Word into a pandas dataframe.</span>\n"
   ]
  },
  {
   "cell_type": "code",
   "execution_count": 76,
   "metadata": {
    "collapsed": false
   },
   "outputs": [],
   "source": [
    "infoExtractionRequest = requests.get('http://rfkhumanrights.org/media/filer_public/af/a1/afa1ea83-1d15-47d7-aea9-37658772f554/nelson_mandela.pdf', stream=True)\n",
    "infoExtractionBytes = io.BytesIO(infoExtractionRequest.content)"
   ]
  },
  {
   "cell_type": "code",
   "execution_count": 130,
   "metadata": {
    "collapsed": false
   },
   "outputs": [],
   "source": [
    "mandelaSpeechText0 = readPDF(infoExtractionBytes)[1187:6549]\n",
    "mandelaSpeechText1 = re.sub(r'\\n', ' ', mandelaSpeechText0)\n",
    "mandelaSpeechText2 = re.sub(r'\\s\\s', ' ', mandelaSpeechText1)\n",
    "mandelaSpeechText = re.sub(r'\\x0c', '', mandelaSpeechText2)  "
   ]
  },
  {
   "cell_type": "code",
   "execution_count": 156,
   "metadata": {
    "collapsed": false
   },
   "outputs": [],
   "source": [
    "title = mandelaSpeechText[:192]\n",
    "text = mandelaSpeechText[193:]\n",
    "mandelaSpeechDict = {'speech-title' : title, 'speech-text' : text}"
   ]
  },
  {
   "cell_type": "code",
   "execution_count": 160,
   "metadata": {
    "collapsed": false
   },
   "outputs": [
    {
     "data": {
      "text/html": [
       "<div>\n",
       "<table border=\"1\" class=\"dataframe\">\n",
       "  <thead>\n",
       "    <tr style=\"text-align: right;\">\n",
       "      <th></th>\n",
       "      <th>speech-title</th>\n",
       "      <th>speech-text</th>\n",
       "    </tr>\n",
       "  </thead>\n",
       "  <tbody>\n",
       "    <tr>\n",
       "      <th>0</th>\n",
       "      <td>STATEMENT OF THE PRESIDENT OF THE AFRICAN NATI...</td>\n",
       "      <td>Your Majesties, Your Highnesses, Distinguished...</td>\n",
       "    </tr>\n",
       "  </tbody>\n",
       "</table>\n",
       "</div>"
      ],
      "text/plain": [
       "                                        speech-title  \\\n",
       "0  STATEMENT OF THE PRESIDENT OF THE AFRICAN NATI...   \n",
       "\n",
       "                                         speech-text  \n",
       "0  Your Majesties, Your Highnesses, Distinguished...  "
      ]
     },
     "execution_count": 160,
     "metadata": {},
     "output_type": "execute_result"
    }
   ],
   "source": [
    "speeches = []\n",
    "speeches.append(mandelaSpeechDict)\n",
    "\n",
    "SpeechDF = pandas.DataFrame(speeches)\n",
    "SpeechDF = mandelaSpeechDF[['speech-title', 'speech-text']]\n",
    "SpeechDF"
   ]
  },
  {
   "cell_type": "markdown",
   "metadata": {},
   "source": [
    "## <span style=\"color:blue\">Notes on Section 3</span>\n",
    "<span style=\"color:blue\">\n",
    "    I make a request for the pdf of the speech of Nelson Mandela's inaugural address. Then I extract the bytes and read in the text of the pdf using the code provided. The pdf has a lot of explanatory text before and after the speech, so I select only the actual speech from the text through indexing. I clean up the text with a few regex substitutions, then split the speech into a the title and the text and create a dictionary. I create a dataframe showing the title and text of the speech from the dictionary. I can add to this pandas dataframe by creating more such SpeechDicts and appending them to the speeches list. </span>"
   ]
  },
  {
   "cell_type": "code",
   "execution_count": null,
   "metadata": {
    "collapsed": true
   },
   "outputs": [],
   "source": []
  }
 ],
 "metadata": {
  "kernelspec": {
   "display_name": "Python 3",
   "language": "python",
   "name": "python3"
  },
  "language_info": {
   "codemirror_mode": {
    "name": "ipython",
    "version": 3
   },
   "file_extension": ".py",
   "mimetype": "text/x-python",
   "name": "python",
   "nbconvert_exporter": "python",
   "pygments_lexer": "ipython3",
   "version": "3.6.0"
  }
 },
 "nbformat": 4,
 "nbformat_minor": 2
}
