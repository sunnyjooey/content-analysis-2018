{
 "cells": [
  {
   "cell_type": "markdown",
   "metadata": {},
   "source": [
    "# Retreiving and Preparing Text for Machines"
   ]
  },
  {
   "cell_type": "code",
   "execution_count": 1,
   "metadata": {
    "collapsed": true
   },
   "outputs": [],
   "source": [
    "#Special module written for this class\n",
    "#This provides access to data and to helper functions from previous weeks\n",
    "import lucem_illud #pip install git+git://github.com/Computational-Content-Analysis-2018/lucem_illud.git\n",
    "\n",
    "#All these packages need to be installed from pip\n",
    "import requests #for http requests\n",
    "import bs4 #called `beautifulsoup4`, an html parser\n",
    "import pandas #gives us DataFrames\n",
    "import docx #reading MS doc files, install as `python-docx`\n",
    "\n",
    "#Stuff for pdfs\n",
    "#Install as `pdfminer2`\n",
    "import pdfminer.pdfinterp\n",
    "import pdfminer.converter\n",
    "import pdfminer.layout\n",
    "import pdfminer.pdfpage\n",
    "\n",
    "#These come with Python\n",
    "import re #for regexs\n",
    "import urllib \n",
    "import io #for making http requests look like files\n",
    "import json #For Tumblr API responses\n",
    "import os.path #For checking if files exist\n",
    "import os #For making directories\n",
    "\n",
    "from IPython.display import display"
   ]
  },
  {
   "cell_type": "markdown",
   "metadata": {},
   "source": [
    "### Not working"
   ]
  },
  {
   "cell_type": "code",
   "execution_count": 7,
   "metadata": {
    "collapsed": true
   },
   "outputs": [],
   "source": [
    "http_proxy  = \"http://10.10.1.10:3128\"\n",
    "https_proxy = \"https://10.10.1.11:1080\"\n",
    "ftp_proxy   = \"ftp://10.10.1.10:3128\"\n",
    "\n",
    "proxyDict = { \n",
    "              \"http\"  : http_proxy, \n",
    "              \"https\" : https_proxy, \n",
    "              \"ftp\"   : ftp_proxy\n",
    "            }"
   ]
  },
  {
   "cell_type": "code",
   "execution_count": 6,
   "metadata": {
    "collapsed": true
   },
   "outputs": [],
   "source": [
    "india_search = 'http://infoweb.newsbank.com.proxy.uchicago.edu/resources/search/nb?p=WORLDNEWS&t=continent%3AAsia%21Asia%2Fcountry%3AIndia%21India%2Fpubname%3ABTI2%21Times%2Bof%2BIndia%252C%2BThe%2B%2528Mumbai%252C%2BIndia%2529%2Fyear%3A2017%212017&fld0=alltext&val0=%22climate+change%22&bln1=AND&fld1=YMD_date&val1=&sort=_rank_%3AD'"
   ]
  },
  {
   "cell_type": "code",
   "execution_count": 8,
   "metadata": {
    "collapsed": false
   },
   "outputs": [],
   "source": [
    "r = requests.get(india_search)"
   ]
  },
  {
   "cell_type": "code",
   "execution_count": 9,
   "metadata": {
    "collapsed": false
   },
   "outputs": [
    {
     "name": "stdout",
     "output_type": "stream",
     "text": [
      "<!DOCTYPE html PUBLIC \"-//W3C//DTD XHTML+RDFa 1.0//EN\"\n",
      "  \"http://www.w3.org/MarkUp/DTD/xhtml-rdfa-1.dtd\">\n",
      "<html xmlns=\"http://www.w3.org/1999/xhtml\" xml:lang=\"en\" version=\"XHTML+RDFa 1.0\" dir=\"ltr\"\n",
      "  xmlns:content=\"http://purl.org.proxy.uchicago.edu/rss/1.0/modules/content/\"\n",
      "  xmlns:dc=\"http://purl.org.proxy.uchicago.edu/dc/terms/\"\n",
      "  xmlns:foaf=\"http://xmlns.com/foaf/0.1/\"\n",
      "  xmlns:og=\"http://ogp.me/ns#\"\n",
      "  xmlns:rdfs=\"http://www.w3.org/2000/01/rdf-schema#\"\n",
      "  xmlns:sioc=\"http://rdfs.org/sioc/ns#\"\n",
      "  xmlns:sioct=\"http://rdfs.org/sioc/types#\"\n",
      "  xmlns:skos=\"http://www.w3.org/2004/02/skos/core#\"\n",
      "  xmlns:xsd=\"http://www.w3.org/2001/XMLSchema#\">\n",
      "\n",
      "<head profile=\"http://www.w3.org/1999/xhtml/vocab\">\n",
      "  <meta http-equiv=\"Content-Type\" content=\"text/html; charset=utf-8\" />\n",
      "<link rel=\"shortcut icon\" href=\"http://infoweb.newsbank.com.proxy.uchicago.edu/resources/sites/default/files/favicon.ico\" type=\"image/vnd.microsoft.icon\" />\n",
      "<meta name=\"Generator\" content=\"Drupal 7 (http://drupal.org)\" />\n",
      "  <title>Log in to NewsBank</title>\n",
      "  <link type=\"text/css\" rel=\"stylesheet\" href=\"http://infoweb.newsbank.com.proxy.uchicago.edu/resources/sites/default/files/css/css_sSAe9sKteLQpXhdusjdSLXOzkfT5idajD-Lm1ejLyi4.css\" media=\"all\" />\n",
      "<link type=\"text/css\" rel=\"stylesheet\" href=\"http://infoweb.newsbank.com.proxy.uchicago.edu/resources/sites/default/files/css/css_jSaH4HxV6a1gvgqB0v73hTivCXfrFlhS70RLVxVWB5Q.css\" media=\"all\" />\n",
      "<link type=\"text/css\" rel=\"stylesheet\" href=\"http://infoweb.newsbank.com.proxy.uchicago.edu/resources/sites/default/files/css/css_1fQ_egeoJgBfAjWNlx-FVzCmqgEUKkKP31GCMKf7V2A.css\" media=\"all\" />\n",
      "<link type=\"text/css\" rel=\"stylesheet\" href=\"http://infoweb.newsbank.com.proxy.uchicago.edu/resources/sites/default/files/css/css_b0iYzAqgKIczGWPIpcAzcZ7SHE_TYOkZj5qaUiVbaNo.css\" media=\"all\" />\n",
      "  <script type=\"text/javascript\" src=\"http://infoweb.newsbank.com.proxy.uchicago.edu/resources/sites/default/files/js/js_m82XA3EBDol2Dj6NMrf76MDq5wkNwAED4PGZvA6kKBM.js\"></script>\n",
      "<script type=\"text/javascript\" src=\"http://infoweb.newsbank.com.proxy.uchicago.edu/resources/sites/default/files/js/js_p2u1utOC18djYsINHE8m9KxNRjvNYiyPbq--VhXj1Qw.js\"></script>\n",
      "<script type=\"text/javascript\">\n",
      "<!--//--><![CDATA[//><!--\n",
      "if (typeof nbplatform == \"undefined\") { var nbplatform = {}; } nbplatform.debug = function(){}; nbplatform.time = function(){}; nbplatform.timeEnd = function(){};\n",
      "//--><!]]>\n",
      "</script>\n",
      "<script type=\"text/javascript\" src=\"http://infoweb.newsbank.com.proxy.uchicago.edu/resources/sites/default/files/js/js_VDjsUnS8V7tHQ56yT3dQS1jyrIyItQN_22Zh14QK8HM.js\"></script>\n",
      "<script type=\"text/javascript\">\n",
      "<!--//--><![CDATA[//><!--\n",
      "(function(i,s,o,g,r,a,m){i[\"GoogleAnalyticsObject\"]=r;i[r]=i[r]||function(){(i[r].q=i[r].q||[]).push(arguments)},i[r].l=1*new Date();a=s.createElement(o),m=s.getElementsByTagName(o)[0];a.async=1;a.src=g;m.parentNode.insertBefore(a,m)})(window,document,\"script\",\"//www.google-analytics.com/analytics.js\",\"ga\");ga(\"create\", \"UA-126152-15\", {\"cookieDomain\":\".infoweb.newsbank.com\"});ga(\"send\", \"pageview\");\n",
      "//--><!]]>\n",
      "</script>\n",
      "<script type=\"text/javascript\">\n",
      "<!--//--><![CDATA[//><!--\n",
      "jQuery.extend(Drupal.settings, {\"basePath\":\"\\/resources\\/\",\"pathPrefix\":\"\",\"ajaxPageState\":{\"theme\":\"strawmandev\",\"theme_token\":\"uvz9XZm24gW1rCElSazrQdaeWjLi6_yLtQC90pVgYBU\",\"js\":{\"http:\\/\\/ajax.googleapis.com\\/ajax\\/libs\\/jquery\\/1.10.1\\/jquery.min.js\":1,\"sites\\/all\\/modules\\/custom\\/nbplatform\\/scripts\\/jquery-accessibleMegaMenu.js\":1,\"0\":1,\"sites\\/all\\/modules\\/custom\\/nbplatform\\/scripts\\/nbplatform_menu.js\":1,\"sites\\/all\\/modules\\/custom\\/nbprm\\/scripts\\/nbprm_menu.js\":1,\"misc\\/jquery.js\":1,\"misc\\/jquery.once.js\":1,\"misc\\/drupal.js\":1,\"misc\\/jquery.cookie.js\":1,\"sites\\/all\\/modules\\/custom\\/nbplatform\\/scripts\\/jquery.hoverIntent.minified.js\":1,\"sites\\/all\\/modules\\/custom\\/nbplatform\\/scripts\\/nbplatform.js\":1,\"1\":1,\"sites\\/all\\/modules\\/custom\\/nb_downtime\\/js\\/nb-downtime.js\":1,\"sites\\/all\\/modules\\/contrib\\/google_analytics\\/googleanalytics.js\":1,\"2\":1},\"css\":{\"modules\\/system\\/system.base.css\":1,\"modules\\/system\\/system.menus.css\":1,\"modules\\/system\\/system.messages.css\":1,\"modules\\/system\\/system.theme.css\":1,\"modules\\/book\\/book.css\":1,\"modules\\/comment\\/comment.css\":1,\"modules\\/field\\/theme\\/field.css\":1,\"sites\\/all\\/modules\\/custom\\/nbprm\\/css\\/nbprm.css\":1,\"sites\\/all\\/modules\\/custom\\/nbprm\\/css\\/nbprm_menu.css\":1,\"modules\\/node\\/node.css\":1,\"modules\\/search\\/search.css\":1,\"modules\\/user\\/user.css\":1,\"sites\\/all\\/modules\\/contrib\\/views\\/css\\/views.css\":1,\"sites\\/all\\/modules\\/contrib\\/ctools\\/css\\/ctools.css\":1,\"sites\\/all\\/modules\\/contrib\\/panels\\/css\\/panels.css\":1,\"sites\\/all\\/themes\\/custom\\/strawmandev\\/css\\/less4.css\":1,\"sites\\/all\\/themes\\/custom\\/strawmandev\\/css\\/styles.css\":1,\"sites\\/all\\/themes\\/custom\\/strawmandev\\/css\\/layout.css\":1,\"sites\\/all\\/themes\\/custom\\/strawmandev\\/css\\/smoothness\\/jquery-ui-1.8.16.custom.css\":1,\"sites\\/all\\/themes\\/custom\\/strawmandev\\/css\\/nbplatform_menu.css\":1}},\"nbcore_openseadragon\":{\"drupal_base_path\":\"\\/resources\\/\",\"module_base_path\":\"sites\\/all\\/modules\\/custom\\/nbcore_openseadragon\"},\"nb_downtime\":{\"environment\":\"pf\",\"header_id\":\"header\",\"url\":\"http:\\/\\/tools.newsbank.com\\/downtime\\/sites.jsonp\",\"force\":false},\"googleanalytics\":{\"trackOutbound\":1,\"trackMailto\":1,\"trackDownload\":1,\"trackDownloadExtensions\":\"7z|aac|arc|arj|asf|asx|avi|bin|csv|doc(x|m)?|dot(x|m)?|exe|flv|gif|gz|gzip|hqx|jar|jpe?g|js|mp(2|3|4|e?g)|mov(ie)?|msi|msp|pdf|phps|png|ppt(x|m)?|pot(x|m)?|pps(x|m)?|ppam|sld(x|m)?|thmx|qtm?|ra(m|r)?|sea|sit|tar|tgz|torrent|txt|wav|wma|wmv|wpd|xls(x|m|b)?|xlt(x|m)|xlam|xml|z|zip\",\"trackDomainMode\":\"1\"},\"urlIsAjaxTrusted\":{\"\\/resources\\/user\\/login?destination=search\\/nb%3Fp%3DWORLDNEWS%26t%3Dcontinent%253AAsia%2521Asia%252Fcountry%253AIndia%2521India%252Fpubname%253ABTI2%2521Times%252Bof%252BIndia%25252C%252BThe%252B%252528Mumbai%25252C%252BIndia%252529%252Fyear%253A2017%25212017%26fld0%3Dalltext%26val0%3D%2522climate%2Bchange%2522%26bln1%3DAND%26fld1%3DYMD_date%26val1%3D%26sort%3D_rank_%253AD\":true}});\n",
      "//--><!]]>\n",
      "</script>\n",
      "</head>\n",
      "<body class=\"html not-front not-logged-in no-sidebars page-user page-user-login\" >\n",
      "  <div id=\"skip-link\">\n",
      "    <a href=\"#main-content\">Skip to main content</a>\n",
      "  </div>\n",
      "    \n",
      "<div id=\"page\">\n",
      "  <div class=\"wrap\">\n",
      "    <!-- New Header Navigation Region nhs -->\n",
      "    \n",
      "    <div id=\"header\" class=\"clearfix wrap\">\n",
      "      <div class=\"wrap\">\n",
      "\n",
      "        \n",
      "        \n",
      "        \n",
      "        <!-- TODO: Find a permanent home for message area -->\n",
      "                <div id=\"messages\">\n",
      "          <div class=\"messages status\">\n",
      " <ul>\n",
      "  <li>Please Login</li>\n",
      "  <li>You will be automatically redirected to the page you requested.</li>\n",
      " </ul>\n",
      "</div>\n",
      "        </div>\n",
      "        \n",
      "      </div>\n",
      "    </div> <!-- /#header -->\n",
      "\n",
      "    \n",
      "\n",
      "    <div id=\"content-header\" class=\"clearfix wrap\">\n",
      "      <div class=\"wrap\">\n",
      "              </div>\n",
      "    </div>\n",
      "\n",
      "    <div id=\"main\" class=\"clearfix wrap\">\n",
      "      <div class=\"wrap clearfix\">\n",
      "\n",
      "        <div class=\"primary\">\n",
      "\n",
      "          \n",
      "          <div id=\"content\">\n",
      "            <div class=\"wrap\">\n",
      "                                          <h1 class=\"title\" id=\"page-title\">Log in to NewsBank</h1>                            <div class=\"tabs\"></div>                                          <a name=\"main-content\" id=\"main-content\"></a>\n",
      "                <div class=\"region region-content\">\n",
      "    <div id=\"block-system-main\" class=\"block block-system\">\n",
      "\n",
      "      \n",
      "  <div class=\"content\">\n",
      "    <form action=\"/resources/user/login?destination=search/nb%3Fp%3DWORLDNEWS%26t%3Dcontinent%253AAsia%2521Asia%252Fcountry%253AIndia%2521India%252Fpubname%253ABTI2%2521Times%252Bof%252BIndia%25252C%252BThe%252B%252528Mumbai%25252C%252BIndia%252529%252Fyear%253A2017%25212017%26fld0%3Dalltext%26val0%3D%2522climate%2Bchange%2522%26bln1%3DAND%26fld1%3DYMD_date%26val1%3D%26sort%3D_rank_%253AD\" method=\"post\" id=\"user-login\" accept-charset=\"UTF-8\"><div><div class=\"form-item form-type-textfield form-item-name\">\n",
      "  <label for=\"edit-name\">Username <span class=\"form-required\" title=\"This field is required.\">*</span></label>\n",
      " <input type=\"text\" id=\"edit-name\" name=\"name\" value=\"\" size=\"60\" maxlength=\"60\" class=\"form-text required\" />\n",
      "<div class=\"description\">Enter your NewsBank InfoWeb username.</div>\n",
      "</div>\n",
      "<div class=\"form-item form-type-password form-item-pass\">\n",
      "  <label for=\"edit-pass\">Password <span class=\"form-required\" title=\"This field is required.\">*</span></label>\n",
      " <input type=\"password\" id=\"edit-pass\" name=\"pass\" size=\"60\" maxlength=\"128\" class=\"form-text required\" />\n",
      "<div class=\"description\">Enter the password that accompanies your username.</div>\n",
      "</div>\n",
      "<input type=\"hidden\" name=\"form_build_id\" value=\"form-jeBheFuXs_4yxBKtcFgaY5PxTKa2v9pXO6mrrU8y2Qw\" />\n",
      "<input type=\"hidden\" name=\"form_id\" value=\"user_login\" />\n",
      "<a href=\"/resources/user/librarycard?destination=search/nb%3Fp%3DWORLDNEWS%26t%3Dcontinent%253AAsia%2521Asia%252Fcountry%253AIndia%2521India%252Fpubname%253ABTI2%2521Times%252Bof%252BIndia%25252C%252BThe%252B%252528Mumbai%25252C%252BIndia%252529%252Fyear%253A2017%25212017%26fld0%3Dalltext%26val0%3D%2522climate%2Bchange%2522%26bln1%3DAND%26fld1%3DYMD_date%26val1%3D%26sort%3D_rank_%253AD\" id=\"alternate-login-link\" title=\"Use a username and password to login\">No username and password? Click here for additional log in options.</a><div id=\"login-ip-address\" class=\"info-msg\">Your IP address is 205.208.116.24</div><div class=\"form-actions form-wrapper\" id=\"edit-actions\"><input type=\"submit\" id=\"edit-submit\" name=\"op\" value=\"Log in\" class=\"form-submit\" /></div></div></form>  </div>\n",
      "</div>\n",
      "  </div>\n",
      "                          </div>\n",
      "          </div> <!-- /#content -->\n",
      "\n",
      "        </div> <!-- /.primary -->\n",
      "\n",
      "        <div class=\"secondary\">\n",
      "                  </div> <!-- /.secondary -->\n",
      "\n",
      "      </div>\n",
      "    </div> <!-- /#main -->\n",
      "\n",
      "    <div id=\"footer\" class=\"clearfix wrap\">\n",
      "      <div class=\"wrap\">\n",
      "          <div class=\"region region-footer\">\n",
      "    <div id=\"block-nbplatform-nb-footer-nav\" class=\"block block-nbplatform\">\n",
      "\n",
      "      \n",
      "  <div class=\"content\">\n",
      "    <div class=\"item-list\"><ul class=\"nav-links\" id=\"footer-nav-links\" role=\"navigation\" aria-label=\"Footer Navigation\"><li class=\"first\"><a href=\"http://www.newsbank.com.proxy.uchicago.edu/privacy-policy\" target=\"_new\" aria-labelledby=\"footer-nav-links\">Privacy Policy</a></li>\n",
      "<li><a href=\"http://infoweb.newsbank.com.proxy.uchicago.edu/resources/help/terms-use\" target=\"_new\" aria-labelledby=\"footer-nav-links\">Terms of Use</a></li>\n",
      "<li class=\"last\"><a href=\"http://www.newsbank.com.proxy.uchicago.edu/\" target=\"_new\" aria-labelledby=\"footer-nav-links\">&copy;2018 NewsBank, inc.</a></li>\n",
      "</ul></div>  </div>\n",
      "</div>\n",
      "  </div>\n",
      "      </div>\n",
      "    </div> <!-- /#footer -->\n",
      "\n",
      "  </div>\n",
      "</div> <!-- /#page -->\n",
      "<!-- strawmandev $Date: 2013-04-10 15:29:15 -0400 (Wed, 10 Apr 2013) $, $Revision: 5496 $ -->\n",
      "  <script type=\"text/javascript\" src=\"http://infoweb.newsbank.com.proxy.uchicago.edu/resources/sites/default/files/js/js_40noS76xF_Zeca7IsER1VTNgodHYBEJSs4dLjoGnBN0.js\"></script>\n",
      "<script type=\"text/javascript\">\n",
      "<!--//--><![CDATA[//><!--\n",
      "var $jq10 = jQuery.noConflict(true);\n",
      "//--><!]]>\n",
      "</script>\n",
      "<script type=\"text/javascript\" src=\"http://infoweb.newsbank.com.proxy.uchicago.edu/resources/sites/default/files/js/js_3khGvTKkZYT-MTYTo9BHncKxrXCiRoJy6s5ehdi9sXk.js\"></script>\n",
      "</body>\n",
      "</html>\n",
      "\n"
     ]
    }
   ],
   "source": [
    "indiaContentRequest = requests.get(india_search)\n",
    "print(indiaContentRequest.text)"
   ]
  },
  {
   "cell_type": "code",
   "execution_count": null,
   "metadata": {
    "collapsed": true
   },
   "outputs": [],
   "source": []
  },
  {
   "cell_type": "code",
   "execution_count": null,
   "metadata": {
    "collapsed": true
   },
   "outputs": [],
   "source": []
  },
  {
   "cell_type": "markdown",
   "metadata": {},
   "source": [
    "### Scraping Text (from a saved .html file)"
   ]
  },
  {
   "cell_type": "code",
   "execution_count": 16,
   "metadata": {
    "collapsed": true
   },
   "outputs": [],
   "source": [
    "countryDict = {'Saudi Arabia': [\n",
    "\"saud1.html\",\n",
    "\"saud2.html\",\n",
    "\"saud3.html\",\n",
    "\"saud4.html\",\n",
    "\"saud5.html\",\n",
    "\"saud6.html\",\n",
    "\"saud7.html\",\n",
    "\"saud8.html\",\n",
    "\"saud9.html\",\n",
    "\"saud10.html\",\n",
    "\"saud11.html\",\n",
    "\"saud12.html\",\n",
    "\"saud13.html\",\n",
    "\"saud14.html\",\n",
    "\"saud15.html\"] ,\n",
    "               'China': [\n",
    "\"china1.html\",\n",
    "\"china2.html\",\n",
    "\"china3.html\",\n",
    "\"china4.html\",\n",
    "\"china5.html\",\n",
    "\"china6.html\",\n",
    "\"china7.html\",\n",
    "\"china8.html\",\n",
    "\"china9.html\",\n",
    "\"china10.html\",\n",
    "\"china11.html\",\n",
    "\"china12.html\",\n",
    "\"china13.html\",\n",
    "\"china14.html\",\n",
    "\"china15.html\"],\n",
    "               'US': [\n",
    "\"us01.html\",\n",
    "\"us02.html\",\n",
    "\"us03.html\",\n",
    "\"us04.html\",\n",
    "\"us05.html\",\n",
    "\"us06.html\",\n",
    "\"us07.html\",\n",
    "\"us08.html\",\n",
    "\"us09.html\",\n",
    "\"us10.html\",\n",
    "\"us11.html\",\n",
    "\"us12.html\",\n",
    "\"us13.html\",\n",
    "\"us14.html\"],\n",
    "               'UK': [\n",
    "\"uk01.html\",\n",
    "\"uk02.html\",\n",
    "\"uk03.html\",\n",
    "\"uk04.html\",\n",
    "\"uk05.html\",\n",
    "\"uk06.html\",\n",
    "\"uk07.html\",\n",
    "\"uk08.html\",\n",
    "\"uk09.html\",\n",
    "\"uk10.html\",\n",
    "\"uk11.html\",\n",
    "\"uk12.html\",\n",
    "\"uk13.html\",\n",
    "\"uk14.html\"],\n",
    "               'Australia': [\n",
    "\"au01.html\",\n",
    "\"au02.html\",\n",
    "\"au03.html\",\n",
    "\"au04.html\",\n",
    "\"au05.html\",\n",
    "\"au06.html\",\n",
    "\"au07.html\",\n",
    "\"au08.html\",\n",
    "\"au09.html\",\n",
    "\"au10.html\",\n",
    "\"au11.html\",\n",
    "\"au12.html\",\n",
    "\"au13.html\",\n",
    "\"au14.html\"],\n",
    "               'Kenya': [\n",
    "\"kenya1.html\",\n",
    "\"kenya2.html\",\n",
    "\"kenya3.html\",\n",
    "\"kenya4.html\",\n",
    "\"kenya5.html\",\n",
    "\"kenya6.html\",\n",
    "\"kenya7.html\",\n",
    "\"kenya8.html\",\n",
    "\"kenya9.html\",\n",
    "\"kenya10.html\",\n",
    "\"kenya11.html\",\n",
    "\"kenya12.html\",\n",
    "\"kenya13.html\",\n",
    "\"kenya14.html\",\n",
    "\"kenya15.html\"],\n",
    "               'India': [\n",
    "\"india1.html\",\n",
    "\"india2.html\",\n",
    "\"india3.html\",\n",
    "\"india4.html\",\n",
    "\"india5.html\",\n",
    "\"india6.html\",\n",
    "\"india7.html\",\n",
    "\"india8.html\",\n",
    "\"india9.html\",\n",
    "\"india10.html\",\n",
    "\"india11.html\",\n",
    "\"india12.html\",\n",
    "\"india13.html\",\n",
    "\"india14.html\",\n",
    "\"india15.html\"]}              "
   ]
  },
  {
   "cell_type": "code",
   "execution_count": 12,
   "metadata": {
    "collapsed": false
   },
   "outputs": [],
   "source": [
    "def loopThruArticles(countryDict):\n",
    "\n",
    "    parsDict = {'region': [], 'source': [], 'title': [], 'text': [], 'date': [], 'author': [], 'section': []}\n",
    "\n",
    "    for key, val in countryDict.items():\n",
    "        for html in val:\n",
    "            parsDict['region'].append(key)\n",
    "            parseArticle(html, parsDict)\n",
    "    \n",
    "    return parsDict\n",
    "    "
   ]
  },
  {
   "cell_type": "code",
   "execution_count": 14,
   "metadata": {
    "collapsed": false
   },
   "outputs": [],
   "source": [
    "def parseArticle(html, parsDict):\n",
    "    soup = bs4.BeautifulSoup(open(html, 'rt', encoding='UTF8'),'lxml')\n",
    "\n",
    "    # title\n",
    "    title0 = soup.find_all('div', {'class' : 'title'})\n",
    "    title1 = title0[0].text.replace('Hide Details', '')\n",
    "    title = re.sub(r'\\<.*\\>', '', title1)\n",
    "    parsDict['title'].append(title)\n",
    "\n",
    "    # text\n",
    "    body = soup.find_all('div', {'class' : 'body'})\n",
    "    text0 = body[0].text\n",
    "    text1 = re.sub(r'\\n', ' ', text0) #Take out new lines\n",
    "    text2 = re.sub(r\"Source- .+\",\"\", text1) #for Times of India\n",
    "    text = re.sub(r\"© .+\",\"\", text2) #for allAfrica\n",
    "    parsDict['text'].append(text)\n",
    "\n",
    "    # source & date\n",
    "    source = soup.find_all('div', {'class' : 'source'})\n",
    "    date = re.findall(r'(?:January|February|March|April|May|June|July|August|September|October|November|Dececember)\\s\\d{1,2},\\s\\d{4}', source[0].text)\n",
    "    parsDict['date'].append(date)\n",
    "    pat2 = re.compile(r\"(.*?)-\", re.M)\n",
    "    newssource = pat2.findall(source[0].text)\n",
    "    parsDict['source'].append(newssource[0])\n",
    "\n",
    "    meta = soup.find_all('span', {'class' : 'val'})\n",
    "    # author    \n",
    "    author0 = meta[0]\n",
    "    author = re.sub(r'\\<.*\\>', '', author0.text) #Take out <>\n",
    "    parsDict['author'].append(author)\n",
    "\n",
    "    # section\n",
    "    section0 = meta[1]\n",
    "    section = re.sub(r'\\<.*\\>', '', section0.text) #Take out <>\n",
    "    parsDict['section'].append(section)\n",
    "    "
   ]
  },
  {
   "cell_type": "code",
   "execution_count": 17,
   "metadata": {
    "collapsed": false
   },
   "outputs": [],
   "source": [
    "df = pandas.DataFrame(loopThruArticles(countryDict))"
   ]
  },
  {
   "cell_type": "code",
   "execution_count": 19,
   "metadata": {
    "collapsed": false
   },
   "outputs": [],
   "source": [
    "df.to_csv('news.csv')"
   ]
  },
  {
   "cell_type": "code",
   "execution_count": null,
   "metadata": {
    "collapsed": true
   },
   "outputs": [],
   "source": []
  },
  {
   "cell_type": "code",
   "execution_count": null,
   "metadata": {
    "collapsed": true
   },
   "outputs": [],
   "source": []
  }
 ],
 "metadata": {
  "kernelspec": {
   "display_name": "Python 3",
   "language": "python",
   "name": "python3"
  },
  "language_info": {
   "codemirror_mode": {
    "name": "ipython",
    "version": 3
   },
   "file_extension": ".py",
   "mimetype": "text/x-python",
   "name": "python",
   "nbconvert_exporter": "python",
   "pygments_lexer": "ipython3",
   "version": "3.6.0"
  }
 },
 "nbformat": 4,
 "nbformat_minor": 2
}
