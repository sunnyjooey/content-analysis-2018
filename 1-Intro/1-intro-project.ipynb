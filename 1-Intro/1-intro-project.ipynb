{
 "cells": [
  {
   "cell_type": "markdown",
   "metadata": {},
   "source": [
    "# Retreiving and Preparing Text for Machines"
   ]
  },
  {
   "cell_type": "code",
   "execution_count": 1,
   "metadata": {
    "collapsed": true
   },
   "outputs": [],
   "source": [
    "#Special module written for this class\n",
    "#This provides access to data and to helper functions from previous weeks\n",
    "import lucem_illud #pip install git+git://github.com/Computational-Content-Analysis-2018/lucem_illud.git\n",
    "\n",
    "#All these packages need to be installed from pip\n",
    "import requests #for http requests\n",
    "import bs4 #called `beautifulsoup4`, an html parser\n",
    "import pandas #gives us DataFrames\n",
    "import docx #reading MS doc files, install as `python-docx`\n",
    "\n",
    "#Stuff for pdfs\n",
    "#Install as `pdfminer2`\n",
    "import pdfminer.pdfinterp\n",
    "import pdfminer.converter\n",
    "import pdfminer.layout\n",
    "import pdfminer.pdfpage\n",
    "\n",
    "#These come with Python\n",
    "import re #for regexs\n",
    "import urllib \n",
    "import io #for making http requests look like files\n",
    "import json #For Tumblr API responses\n",
    "import os.path #For checking if files exist\n",
    "import os #For making directories\n",
    "\n",
    "from IPython.display import display"
   ]
  },
  {
   "cell_type": "markdown",
   "metadata": {},
   "source": [
    "### Not working"
   ]
  },
  {
   "cell_type": "code",
   "execution_count": 2,
   "metadata": {
    "collapsed": true
   },
   "outputs": [],
   "source": [
    "india_search = 'http://infoweb.newsbank.com.proxy.uchicago.edu/resources/search/nb?p=WORLDNEWS&t=continent%3AAsia%21Asia%2Fcountry%3AIndia%21India%2Fpubname%3ABTI2%21Times%2Bof%2BIndia%252C%2BThe%2B%2528Mumbai%252C%2BIndia%2529%2Fyear%3A2017%212017&fld0=alltext&val0=%22climate+change%22&bln1=AND&fld1=YMD_date&val1=&sort=_rank_%3AD'"
   ]
  },
  {
   "cell_type": "code",
   "execution_count": 3,
   "metadata": {
    "collapsed": false
   },
   "outputs": [
    {
     "data": {
      "text/plain": [
       "<Response [200]>"
      ]
     },
     "execution_count": 3,
     "metadata": {},
     "output_type": "execute_result"
    }
   ],
   "source": [
    "requests.get(india_search)"
   ]
  },
  {
   "cell_type": "code",
   "execution_count": 4,
   "metadata": {
    "collapsed": false
   },
   "outputs": [],
   "source": [
    "indiaContentRequest = requests.get(india_search)\n",
    "#print(indiaContentRequest.text)"
   ]
  },
  {
   "cell_type": "code",
   "execution_count": null,
   "metadata": {
    "collapsed": true
   },
   "outputs": [],
   "source": []
  },
  {
   "cell_type": "code",
   "execution_count": null,
   "metadata": {
    "collapsed": true
   },
   "outputs": [],
   "source": []
  },
  {
   "cell_type": "markdown",
   "metadata": {},
   "source": [
    "### Scraping Text (from a saved .html file)"
   ]
  },
  {
   "cell_type": "code",
   "execution_count": 93,
   "metadata": {
    "collapsed": true
   },
   "outputs": [],
   "source": [
    "countryDict = {'UK': [\"climateUKGuard.html\"], 'Africa': [\"climateAfrica.html\"], 'India': [\"climateIndia.html\"]}"
   ]
  },
  {
   "cell_type": "code",
   "execution_count": 95,
   "metadata": {
    "collapsed": false
   },
   "outputs": [],
   "source": [
    "def loopThruArticles(countryDict):\n",
    "\n",
    "    parsDict = {'region': [], 'source': [], 'title': [], 'text': [], 'date': [], 'author': [], 'section': []}\n",
    "\n",
    "    for key, val in countryDict.items():\n",
    "        for html in val:\n",
    "            parsDict['region'].append(key)\n",
    "            parseArticle(html, parsDict)\n",
    "    \n",
    "    return parsDict\n",
    "    "
   ]
  },
  {
   "cell_type": "code",
   "execution_count": 104,
   "metadata": {
    "collapsed": false
   },
   "outputs": [],
   "source": [
    "def parseArticle(html, parsDict):\n",
    "    soup = bs4.BeautifulSoup(open(html, 'rt', encoding='UTF8'))\n",
    "\n",
    "    # title\n",
    "    title0 = soup.find_all('div', {'class' : 'title'})\n",
    "    title1 = title0[0].text.replace('Hide Details', '')\n",
    "    title = re.sub(r'\\<.*\\>', '', title1)\n",
    "    parsDict['title'].append(title)\n",
    "\n",
    "    # text\n",
    "    body = soup.find_all('div', {'class' : 'body'})\n",
    "    text0 = body[0].text\n",
    "    text1 = re.sub(r'\\n', ' ', text0) #Take out new lines\n",
    "    text2 = re.sub(r\"Source- .+\",\"\", text1) #for Times of India\n",
    "    text = re.sub(r\"© .+\",\"\", text2) #for allAfrica\n",
    "    parsDict['text'].append(text)\n",
    "\n",
    "    # source & date\n",
    "    source = soup.find_all('div', {'class' : 'source'})\n",
    "    date = re.findall(r'(?:January|February|March|April|May|June|July|August|September|October|November|Dececember)\\s\\d{1,2},\\s\\d{4}', source[0].text)\n",
    "    parsDict['date'].append(date[0])\n",
    "    pat2 = re.compile(r\"(.*?)-\", re.M)\n",
    "    newssource = pat2.findall(source[0].text)\n",
    "    parsDict['source'].append(newssource[0])\n",
    "\n",
    "    meta = soup.find_all('span', {'class' : 'val'})\n",
    "    # author    \n",
    "    author0 = meta[0]\n",
    "    author = re.sub(r'\\<.*\\>', '', author0.text) #Take out <>\n",
    "    parsDict['author'].append(author)\n",
    "\n",
    "    # section\n",
    "    section0 = meta[1]\n",
    "    section = re.sub(r'\\<.*\\>', '', section0.text) #Take out <>\n",
    "    parsDict['section'].append(section)\n",
    "    "
   ]
  },
  {
   "cell_type": "code",
   "execution_count": 106,
   "metadata": {
    "collapsed": false
   },
   "outputs": [
    {
     "name": "stderr",
     "output_type": "stream",
     "text": [
      "C:\\ProgramData\\Anaconda3\\lib\\site-packages\\bs4\\__init__.py:181: UserWarning: No parser was explicitly specified, so I'm using the best available HTML parser for this system (\"lxml\"). This usually isn't a problem, but if you run this code on another system, or in a different virtual environment, it may use a different parser and behave differently.\n",
      "\n",
      "The code that caused this warning is on line 193 of the file C:\\ProgramData\\Anaconda3\\lib\\runpy.py. To get rid of this warning, change code that looks like this:\n",
      "\n",
      " BeautifulSoup([your markup])\n",
      "\n",
      "to this:\n",
      "\n",
      " BeautifulSoup([your markup], \"lxml\")\n",
      "\n",
      "  markup_type=markup_type))\n"
     ]
    },
    {
     "data": {
      "text/html": [
       "<div>\n",
       "<table border=\"1\" class=\"dataframe\">\n",
       "  <thead>\n",
       "    <tr style=\"text-align: right;\">\n",
       "      <th></th>\n",
       "      <th>author</th>\n",
       "      <th>date</th>\n",
       "      <th>region</th>\n",
       "      <th>section</th>\n",
       "      <th>source</th>\n",
       "      <th>text</th>\n",
       "      <th>title</th>\n",
       "    </tr>\n",
       "  </thead>\n",
       "  <tbody>\n",
       "    <tr>\n",
       "      <th>0</th>\n",
       "      <td>Jessica Elgot Political reporter</td>\n",
       "      <td>November 13, 2017</td>\n",
       "      <td>UK</td>\n",
       "      <td>UK</td>\n",
       "      <td>Guardian, The (London, England)</td>\n",
       "      <td>The risk posed by climate change would be fact...</td>\n",
       "      <td>Labour vows to factor climate change risk into...</td>\n",
       "    </tr>\n",
       "    <tr>\n",
       "      <th>1</th>\n",
       "      <td>IRIN Nairobi</td>\n",
       "      <td>July 5, 2017</td>\n",
       "      <td>Africa</td>\n",
       "      <td>NEWS</td>\n",
       "      <td>allAfrica.com</td>\n",
       "      <td>Everyone's heard of climate change, right? Glo...</td>\n",
       "      <td>Climate Change? What Climate Change? Nigerian ...</td>\n",
       "    </tr>\n",
       "    <tr>\n",
       "      <th>2</th>\n",
       "      <td>Seema Sharma</td>\n",
       "      <td>October 18, 2017</td>\n",
       "      <td>India</td>\n",
       "      <td>Dehradun</td>\n",
       "      <td>Times of India, The (Mumbai, India)</td>\n",
       "      <td>DEHRADUN: In a major achievement for Forest de...</td>\n",
       "      <td>9 nine govt departments to set up climate chan...</td>\n",
       "    </tr>\n",
       "  </tbody>\n",
       "</table>\n",
       "</div>"
      ],
      "text/plain": [
       "                             author               date  region   section  \\\n",
       "0  Jessica Elgot Political reporter  November 13, 2017      UK        UK   \n",
       "1                      IRIN Nairobi       July 5, 2017  Africa      NEWS   \n",
       "2                      Seema Sharma   October 18, 2017   India  Dehradun   \n",
       "\n",
       "                                 source  \\\n",
       "0      Guardian, The (London, England)    \n",
       "1                        allAfrica.com    \n",
       "2  Times of India, The (Mumbai, India)    \n",
       "\n",
       "                                                text  \\\n",
       "0  The risk posed by climate change would be fact...   \n",
       "1  Everyone's heard of climate change, right? Glo...   \n",
       "2  DEHRADUN: In a major achievement for Forest de...   \n",
       "\n",
       "                                               title  \n",
       "0  Labour vows to factor climate change risk into...  \n",
       "1  Climate Change? What Climate Change? Nigerian ...  \n",
       "2  9 nine govt departments to set up climate chan...  "
      ]
     },
     "execution_count": 106,
     "metadata": {},
     "output_type": "execute_result"
    }
   ],
   "source": [
    "pandas.DataFrame(loopThruArticles(countryDict))"
   ]
  },
  {
   "cell_type": "code",
   "execution_count": null,
   "metadata": {
    "collapsed": true
   },
   "outputs": [],
   "source": []
  },
  {
   "cell_type": "code",
   "execution_count": null,
   "metadata": {
    "collapsed": true
   },
   "outputs": [],
   "source": []
  },
  {
   "cell_type": "code",
   "execution_count": null,
   "metadata": {
    "collapsed": true
   },
   "outputs": [],
   "source": []
  }
 ],
 "metadata": {
  "kernelspec": {
   "display_name": "Python 3",
   "language": "python",
   "name": "python3"
  },
  "language_info": {
   "codemirror_mode": {
    "name": "ipython",
    "version": 3
   },
   "file_extension": ".py",
   "mimetype": "text/x-python",
   "name": "python",
   "nbconvert_exporter": "python",
   "pygments_lexer": "ipython3",
   "version": "3.6.0"
  }
 },
 "nbformat": 4,
 "nbformat_minor": 2
}
